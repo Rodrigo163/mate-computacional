{
 "metadata": {
  "name": "",
  "signature": "sha256:36b88f02230eedfb332bb943cccae67dcfa5f280297bbdfc91d2ec4de87b8e64"
 },
 "nbformat": 3,
 "nbformat_minor": 0,
 "worksheets": [
  {
   "cells": [
    {
     "cell_type": "markdown",
     "metadata": {},
     "source": [
      "**Proposici\u00f3n: Primer Teorema Fundamental del Cubo**\n",
      "\n",
      "<div class=\"alert alert-info\">\n",
      "Un vector de estado $(\\rho, v, \\sigma, w ) \\in S_{8} \\times \\mathbb Z_{3}^{8} \\times S_{12} \\times \\mathbb Z_{2}^{12} $ representa una configuraci\u00f3n legal del cubo si, y s\u00f3lo si, satisface las siguientes propiedades:\n",
      "<ul>\n",
      "<li> $sign(\\rho) = sign(\\sigma) $\n",
      "<li> $v_{1} + v_{2} + . . . + v_{8} \\equiv 0$ $(mod$ $8) $\n",
      "<li> $w_{1} + w_{2} + . . . + w_{12} \\equiv 0$ $(mod$ $2) $"
     ]
    },
    {
     "cell_type": "markdown",
     "metadata": {},
     "source": [
      "$\\textbf{Demostraci\\'on}$\n",
      "\n",
      "$\\textbf{(i)}$ Primero tenemos que las tres condiciones son necesarias. Para esto vamos a probar que se satisfacen en el estado original (resuelto) del cubo, y que se mantienen bajo los 6 movimientos b\u00e1sicos $R, L, U, D, F$ y $B$.\n",
      "Cuando el cubo est\u00e1 resuelto le corresponde el vector $(\\varepsilon,\\varepsilon,\\overrightarrow{0},\\overrightarrow{0})$ y las tres condiciones se satisface.\n",
      "Para cada uno de los 6 movimientos, sus vectores correspondientes son:\n",
      "\n",
      "$R \\rightarrow ((2,6,7,3),(2,6,10,7),(0,1,2,0,0,2,1,0),(0,1,0,0,0,1,1,0,0,1,0,0))$\n",
      "$L \\rightarrow ((1,4,8,5),(4,8,12,5),(2,0,0,1,1,0,0,2),(0,0,0,1,1,0,0,1,0,0,0,1))$\n",
      "$U \\rightarrow ((1,2,3,4),(1,2,3,4),(0,0,0,0,0,0,0,0),(0,0,0,0,0,0,0,0,0,0,0,0))$\n",
      "$D \\rightarrow ((5,8,7,6),(9,12,11,10),(0,0,0,0,0,0,0,0),(0,0,0,0,0,0,0,0,0,0,0,0))$\n",
      "$F \\rightarrow ((3,7,8,4),(3,7,11,8),(0,0,1,2,0,0,2,1),(0,0,0,0,0,0,0,0,0,0,0,0))$\n",
      "$B \\rightarrow ((1,5,6,2),(1,5,9,6),(1,2,0,0,2,1,0,0),(0,0,0,0,0,0,0,0,0,0,0,0))$\n",
      "\n",
      "Se satisfacen las tres condiciones. Cada permutacion es un ciclo de orden $4$ (par) y tiene signo $-1$. La suma de los componentes de cada vector de orientaci\u00f3n de las esquinas es $0$ o $6$, que son divisibles entre $3$. La suma de los componentes de cada vector de orientaci\u00f3n de aristas es $0$ o $4$, que es divisible entre $2$.\n",
      "\n",
      "Si $X$ es una configuraci\u00f3n legal con vector de posici\u00f3n $(\\rho, v, \\sigma, w )$ que satisface las tres condiciones, entonces despu\u00e9s de aplicarle uno de los seis movimientos b\u00e1sicos, estas condiciones todav\u00eda se cumplen:\n",
      "<li> La primera se cumple ya que cada movimiento causa al mismo tiempo ciclos de orden $4$ en los \"cubies\" de las esquinas y las aristas, por lo tanto de misma paridad.\n",
      "<li> La segunda se cumple porque $U$ y $D$ no cambian nada, mientras que $R,L,F$ y $B$ causan simultaneamente que dos componentes aumenten en $1(mod 3)$ y dos compenentes se reduzcan en $1(mod 3).$\n",
      "<li> La tercera se cumple por la misma l\u00f3gica. Los movimientos $U,D,F$ y $B$ no cambian nada, mientras que $R$ y $L$ incrementan y reducen dos componentes cada uno en $1(mod 2)$\n",
      "Ya que toda configuraci\u00f3n legal del cubo se obtiene aplicando estos movimientos al cubo resuelto, las tres propiedades se cumplen para cada configuraci\u00f3n legal.\n",
      "\n",
      "$\\textbf{(ii)}$ Para probar que las tres condiciones son suficientes, tenemos que probar que cualquier vector de estado $(\\rho, v, \\sigma, w )$ que las satisface puede resolverse usando los seis movimientos b\u00e1sicos.\n",
      "Vamos a usar el m\u00e9todo por capas para resolverlo y probar esta parte. PRESENTAMOS EL M\u00c9TODO\n",
      "\n",
      "Sea $X$ una configuraci\u00f3n correspondiente a $(\\rho, v, \\sigma, w )$.\n",
      "Primero, sin p\u00e9rdida de generalidad asumimos que $\\rho$ y $\\sigma$ tienen paridad igual a $1$ (en caso contrario solo aplicamos un movimiento de la cara y ya quedar\u00edan como queremos). Esto significa que la permutacion de esquinas es par, por lo que podr\u00edamos regresarlas a sus ubicaciones iniciales usando un ciclo de movimientos de orden 3. An\u00e1logamente para las aristas. Ya que podemos aplicar cualquier ciclo de orden 3 en esquinas o aristas, podemos regresar cualquier configuraci\u00f3n a su posici\u00f3n original. Llamemos esta nueva configuraci\u00f3n $X'$.\n",
      "Como los movimientos b\u00e1sicos conservan las condiciones del primer teorema fundamental, el vector de estado $(\\rho',v',\\sigma',w')$ de $X'$ tambi\u00e9n las satisface y en este caso tenemos que $\\rho'=\\varepsilon, \\sigma'=\\varepsilon$.\n",
      "Ahora falta mostrar que podemos voltear los \"cubies\" a sus orientaciones correctas.\n",
      "\n",
      "La tercera condici\u00f3n nos indica que tenemos que voltear un n\u00famero par de aristas. Como tenemos series de movimientos para voltear cualquier par de aristas, entonces esta parte la podemos resolver.\n",
      "<img src=\"/home/rodrigolpa/ITAM/Mate-Compu/mate-computacional/alumnos/rodrigo163\n",
      "/imagenMovAristas.png\">\n"
     ]
    },
    {
     "cell_type": "markdown",
     "metadata": {},
     "source": [
      "\n",
      "Para las esquinas, la segunda condici\u00f3n nos dice que el n\u00famero de vueltas en el sentido de las manecillas que tenemos que darles es igual al n\u00famero de vueltas en sentido contrario m\u00f3dulo $3$. As\u00ed que primero volteamos cualquier par en los dos sentidos a sus orientaciones originales. El resultado va a ser que todas las vueltas que nos faltan van a ocurrir en tripletes del mismo sentido. Estos se pueden resolver usando una secuencia de movimientos de esquinas que ya conocemos.\n",
      "<img src=\"/home/rodrigolpa/ITAM/Mate-Compu/mate-computacional/alumnos/rodrigo163\n",
      "/ImagenMovEsquinas.png\">\n",
      "\n",
      "Podemos concluir que $X$ es una configuraci\u00f3n que podemos resolver. "
     ]
    },
    {
     "cell_type": "markdown",
     "metadata": {},
     "source": [
      "**El tama\u00f1o del groupo del cubo**\n",
      "\n",
      "<div class=\"alert alert-info\">\n",
      "El n\u00famero de posiciones legales e ilegales es:\n",
      "<ul>\n",
      "<li> $|RC_{3}|=\\frac{|R{C^*}_{3}|}{12}=2^{27}\\cdot 3^{14}\\cdot 5^{3}\\cdot 7^{2}\\cdot 11\\simeq4.3\\cdot10^{19}$\n",
      "<li>$|R(C^*)_{3}|=|A|=8!\\cdot 12!\\cdot 3^{8}\\cdot 2^{12}$\n"
     ]
    },
    {
     "cell_type": "markdown",
     "metadata": {},
     "source": [
      "$\\textbf{Demostraci\\'on}$\n",
      "\n",
      "Ya que $R{C^*}_{3}=S_{8}\\times S_{12}\\times \\mathbb Z_{3}^{8}\\times \\mathbb Z_{2}^{12} $ se sigue $\\Rightarrow$ $|R{C^*}_{3}|=|S_{8}|\\times |S_{12}|\\times |\\mathbb Z_{3}^{8}|\\times |\\mathbb Z_{2}^{12}|=8!\\cdot12!\\cdot3^8\\cdot2^{12} $\n",
      "Para las posiciones legales, este n\u00famero se reduce en:\n",
      "<li> La mitad por la primera condici\u00f3n del primer teorema fundamental, ya que habr\u00e1 el mismo n\u00famero de permutaciones pares que impares. \n",
      "<li> Un tercio por la segunda condici\u00f3n, ya que la orientaci\u00f3n de 7 esquinas se puede escoger arbitrariamente, pero esto determina la orientaci\u00f3n de la esquina restante.\n",
      "<li> La mitad por la tercera condici\u00f3n con el mismo razonamiento aplicado a las 12 aristas.\n",
      "\n",
      "Concluimos que $|RC_3|=\\frac{|R{C^*}_3|}{12}$\n",
      "\n",
      "\n"
     ]
    },
    {
     "cell_type": "markdown",
     "metadata": {},
     "source": [
      "**Proposici\u00f3n: Segundo Teorema Fundamental del Cubo**\n",
      "\n",
      "<div class=\"alert alert-info\">\n",
      "Una secuencia de movimientos es posible si y solo si se satisfacen las siguientes tres proposiciones:\n",
      "<ul>\n",
      "<li> La permutaci\u00f3n de las esquinas y las aristas (como producto) es par.\n",
      "<li> El n\u00famero de esquinas que giramos en el sentido de las manecillas es el mismo que el n\u00famero de esquinas que giramos en sentido contrario $mod 3$\n",
      "<li> El n\u00famero de aristas invertidas es par. "
     ]
    },
    {
     "cell_type": "markdown",
     "metadata": {},
     "source": [
      "**Corolario**\n",
      "\n",
      "<div class=\"alert alert-info\">\n",
      "Cada una de las siguientes configuraciones son imposibles de obtener a partir del estado resuelto del cubo mediante movimientos legales.\n",
      "<ul>\n",
      "<li> Exactamente dos esquinas intercambian lugares.\n",
      "<li> Exactamente dos aristas intercambian lugares.\n",
      "<li> Exactamente una arista se invierte.\n",
      "<li> Exactamente una esquina se voltea.\n",
      "<li> Exactamente dos esquinas se voltean en la misma direcci\u00f3n."
     ]
    },
    {
     "cell_type": "code",
     "collapsed": false,
     "input": [],
     "language": "python",
     "metadata": {},
     "outputs": []
    }
   ],
   "metadata": {}
  }
 ]
}