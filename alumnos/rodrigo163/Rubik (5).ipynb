{
 "metadata": {
  "name": "",
  "signature": "sha256:051ecfe3bb9d33ecccd87971eb8f60888ef5c67fabd4caf89b3e9f1b7cb636cb"
 },
 "nbformat": 3,
 "nbformat_minor": 0,
 "worksheets": [
  {
   "cells": [
    {
     "cell_type": "heading",
     "level": 1,
     "metadata": {},
     "source": [
      "Proyecto Cubo Rubik"
     ]
    },
    {
     "cell_type": "code",
     "collapsed": false,
     "input": [
      "import numpy as np\n",
      "import random\n",
      "import itertools \n",
      "%matplotlib inline\n",
      "import matplotlib as plt\n",
      "import matplotlib.pyplot as plt"
     ],
     "language": "python",
     "metadata": {},
     "outputs": [],
     "prompt_number": 1
    },
    {
     "cell_type": "heading",
     "level": 2,
     "metadata": {},
     "source": [
      "Introducci\u00f3n y objetivo general"
     ]
    },
    {
     "cell_type": "markdown",
     "metadata": {},
     "source": [
      "El cubo fue inventado por el arquitecto Ern\u00f6 Rubik en 1974 no como un medio de entretenci\u00f3n, sino como una herramienta que mejorase sus clases universitarias. Posteriormente habr\u00eda una infinidad de ellos en los estantes de jugueter\u00edas a nivel mundial. Pero luego, por la dificultad que muchos hallaban al intentar solucionarlo, recobrar\u00eda el inter\u00e9s de varios acad\u00e9micos (en particular matem\u00e1ticos). Y durante ya un tiempo han habido varias implementaciones de algoritmos de soluci\u00f3n y modelamiento. M\u00e1s a\u00fan, por la relaci\u00f3n entre las matem\u00e1ticas y la computaci\u00f3n, muchos de estos algoritmos est\u00e1n dise\u00f1ados para computadoras y no para seres humanos. \n",
      "<br> Nuestro objetivo es explorar el cubo Rubik usando las matem\u00e1ticas proporcionadas por la Teor\u00eda de Grupos. Primero daremos una representaci\u00f3n del cubo (un modelo del cubo f\u00edsico), bas\u00e1ndonos en las permutaciones; y luego mostraremos un par de algoritmos de soluci\u00f3n: el primero no tan eficiente, que usar\u00e1 <\"BREVE DESCRICPI\u00d3N DE LAS HERRAMIENTAS QUE USA EL ALG1>\">; mientras que el segundo, dise\u00f1ado por el matem\u00e1tico Morwen Thistlethwaite, mucho m\u00e1s eficiente que el primero y que ha dado pauta a posteriores algoritmos que logran la resoluci\u00f3n del cubo con un promedio de 20 movimientos.\n",
      "<br> Mencionamos los objetivos que se nos impusieron al inicio del proyecto (todos fueron completados):\n",
      "<div class=\"alert alert-warning\">\n",
      "<ul>\n",
      "<li> Explique la notaci\u00f3n de movimientos que usar\u00e1 en este proyecto.\n",
      "<li> Explique la estructura de datos que usar\u00e1 en este proyecto.\n",
      "<li> Explique cu\u00e1ntos son los diferentes tipos de cubos que hay. \n",
      "<li> Expr\u00e9sela en funci\u00f3n del n\u00famero columnas del cubo.\n",
      "<li> Codifique la estructura y movimientos en una clase llamada Rubik. \n",
      "<li> Muestre funcionando la clase.\n",
      "<li> Dise\u00f1e una visualizaci\u00f3n para mostrar el cubo.\n",
      "<li> Implemente dos algoritmos de soluci\u00f3n. Muestrelos y compare sus comportamientos.\n",
      "\n",
      "<br> Hint: Partiendo de posiciones iguales \u00bfC\u00f3mo se comportan?\u00bfCu\u00e1l es m\u00e1s eficiente?\u00bfHay una cota para cada algoritmo?\n",
      "\n",
      "<br> Hint: Simulelo"
     ]
    },
    {
     "cell_type": "heading",
     "level": 2,
     "metadata": {},
     "source": [
      "Una breve introducci\u00f3n a la Teor\u00eda de Grupos (o bien, al \u00e1lgebra que usaremos en el proyecto)"
     ]
    },
    {
     "cell_type": "markdown",
     "metadata": {},
     "source": [
      "No leer esta secci\u00f3n si el lector entiende los conceptos b\u00e1sicos de esta \u00e1rea de las matem\u00e1ticas"
     ]
    },
    {
     "cell_type": "markdown",
     "metadata": {},
     "source": [
      "**Definici\u00f3n: Grupo**\n",
      "<br>\n",
      "<div class=\"alert alert-info\">\n",
      "Sea $S \\neq \\emptyset $ un conjunto con una operaci\u00f3n binaria definida \"$*$\". Se dice que la estructura algebraica $(S, *)$ es un grupo si satisface lo siguiente:\n",
      "1. Si $(S, *)$ es asociativa.\n",
      "2. Si existe $e$, neutro en $(S, *)$.\n",
      "3. Si para todo elemento en $S$, existe un inverso en $(S, *)$"
     ]
    },
    {
     "cell_type": "markdown",
     "metadata": {},
     "source": [
      "**Definici\u00f3n: Subgrupo**\n",
      "<div class=\"alert alert-info\">\n",
      "Sea $(S,*)$ grupo, y $\\emptyset \\neq T \\subseteq S $. Se dice que $T$ es un subgrupo de $S$ si $T$ es cerrado bajo \"$*$\", y si  $(T,*)$ es grupo."
     ]
    },
    {
     "cell_type": "markdown",
     "metadata": {},
     "source": [
      "**Definici\u00f3n: Producto cartesiano (generalizaci\u00f3n finita numerable)**\n",
      "<div class=\"alert alert-info\">\n",
      "El producto cartesiano de un n\u00famero finito de conjuntos $A_{1}, A_{2}, . . ., A_{n}$ es el conjunto de las $n$-tuplas, cuyo $k$-\u00e9simo elemento pertenece a $A_{k}$, es decir: $$ $$ $A_{1} \\times A_{2} \\times . . . \\times A_{n} = \\{(a_{1}, a_{2}, . . ., a_{n}): a_{1} \\in A_{1}, a_{2} \\in A_{2}, . . . , a_{n} \\in A_{n}\\}$"
     ]
    },
    {
     "cell_type": "heading",
     "level": 4,
     "metadata": {},
     "source": [
      "Definici\u00f3n: Congruencia m\u00f3dulo $n$"
     ]
    },
    {
     "cell_type": "markdown",
     "metadata": {},
     "source": [
      "Sea $n \\in \\mathbb N$, $n > 1$. Para $a,b \\in \\mathbb Z$, decimos que $a$ es congruente con $b$ m\u00f3dulo $n$, y escribimos $$a \\equiv b \\mod n,$$ si $a = b + kn$ para alguna $k \\in \\mathbb Z$"
     ]
    },
    {
     "cell_type": "markdown",
     "metadata": {},
     "source": [
      "<div class=\"alert alert-info\">\n",
      "\n",
      "La congruencia m\u00f3dulo $n$ es una relaci\u00f3n de equivalencia sobre $\\mathbb Z$. As\u00ed, considerando los enteros que son congruentes m\u00f3dulo $n$, la clase de equivalencia de $a \\in \\mathbb Z$ vendr\u00eda siendo: $$ $$ $[a] = \\{ b \\in \\mathbb Z : a \\equiv b \\mod n \\} $ $$ $$ Al conjunto de todas las clases de equivalencia, para la congruencia m\u00f3dulo $n$, la denotamos como $\\mathbb Z_{n}$. $$ $$ Es decir, $\\mathbb Z_{n} = \\{ [a] : a \\in \\mathbb Z \\}$, es el conjunto de todas las clases de equivalencia, de la relaci\u00f3n de equivalencia congruente m\u00f3dulo $n$ $$ $$ "
     ]
    },
    {
     "cell_type": "markdown",
     "metadata": {},
     "source": [
      "**Proposici\u00f3n: Los enteros m\u00f3dulo $n$ forman un grupo**\n",
      "<div class=\"alert alert-info\">\n",
      "\n",
      "Sea $n \\in \\mathbb N, n > 1 $. Definamos la operaci\u00f3n binaria \"$+_{n}$\" en $\\mathbb Z_{n}$: $$ $$ $[a] , [b] \\in \\mathbb Z_{n}$, $[a] +_{n} [b] = [a + b]$, (donde \"$+$\", representa la suma en los enteros). $$ $$ Luego, $(\\mathbb Z_{n}, +_{n})$, es un grupo."
     ]
    },
    {
     "cell_type": "markdown",
     "metadata": {},
     "source": [
      "A partir de ahora, escribiremos \"$+$\" y \"$a$\", en lugar de \"$+_{n}$\" y \"$[a]$\", cuando en el contexto sea evidente que nos referimos a este grupo"
     ]
    },
    {
     "cell_type": "markdown",
     "metadata": {},
     "source": [
      "**Definici\u00f3n: Permutaci\u00f3n y grupos de permutaciones**\n",
      "\n",
      "<div class=\"alert alert-info\">\n",
      "\n",
      "Una permutaci\u00f3n es una funci\u00f3n biyectiva. $$ $$ Sea $S$, conjunto no vac\u00edo, tal que $|S| = n \\in \\mathbb N$. Luego, el conjunto de funciones $S_{n} = \\{f:S\\to\\ S: f$ es biyectiva $ \\}$, junto con la operaci\u00f3n binaria de composici\u00f3n de funciones \"$\\circ$\", forman un grupo."
     ]
    },
    {
     "cell_type": "markdown",
     "metadata": {},
     "source": [
      "$$ $$ M\u00e1s informaci\u00f3n en: AQU\u00cd VA BIBLIOGRAF\u00cdA, PUEDE SER WIKIPEDIA"
     ]
    },
    {
     "cell_type": "heading",
     "level": 2,
     "metadata": {},
     "source": [
      "Modelo del cubo f\u00edsico"
     ]
    },
    {
     "cell_type": "markdown",
     "metadata": {},
     "source": [
      "Modelaremos el cubo rubik usando la teor\u00eda de grupos. Primero proporcionemos un modelo para el cubo f\u00edsico, en s\u00ed. $$ $$ Las $26$ piezas que conforman el cubo se dividen en tres tipos: los centros (que s\u00f3lo tienen un color asignado), las aristas (que tienen dos colores asignados), y los vertices (las esquinas, a quienes les corresponden tres colores). El espacio que una pieza ocupa, sin importar el tipo, se le llama cub\u00edculo. De esta forma, como las piezas centrales nunca cambian de cub\u00edculo, las usamos como punto de referencia para los cub\u00edculos que rodean cada una. Cuando uno realiza movimientos con el cubo, las piezas se mueven de cub\u00edculo en cub\u00edculo. Por lo anterior, podemos decir que el cubo est\u00e1 resuelto si las piezas est\u00e1n en su cub\u00edculo original, y si los colores de cada pieza est\u00e1n en su orientaci\u00f3n correcta (de nuevo respecto al centro). $$ $$ Nuestro modelo consiste en una $4$-tupla $(\\rho, v, \\sigma, w)$, donde $\\rho$  (respectivamente $\\sigma$), describe c\u00f3mo los v\u00e9rtices (respectivamente las aristas) est\u00e1n permutados, y $v$ (y $w$), describe c\u00f3mo los v\u00e9rtices (y las aristas) est\u00e1n orientadas. M\u00e1s a\u00fan, imaginemos que las piezas y los cub\u00edculos est\u00e1n enumerados. Cuando una pieza est\u00e1 en su posici\u00f3n natural, es porque su n\u00famero asociado es igual al de su cub\u00edculo. $$ $$ Cualquier configuraci\u00f3n del cubo arrojar\u00e1 dos permutaciones (ignorando las orientaciones de las piezas): $\\rho \\in S_{8}$, que corresponde a c\u00f3mo los v\u00e9rtices han sido permutados; y $\\sigma \\in S_{12}$, que representa c\u00f3mo las aristas fueron permutadas. FALTA COMPLETAR EXPLICACI\u00d3N DE LAS PERMUTACIONES."
     ]
    },
    {
     "cell_type": "markdown",
     "metadata": {},
     "source": [
      "AQU\u00cd IR\u00cdA UNA IMAGEN PARA LA ENUMERACI\u00d3N DE LAS PIEZAS"
     ]
    },
    {
     "cell_type": "markdown",
     "metadata": {},
     "source": [
      "Para las orientaciones de cada pieza (la distribuci\u00f3n de los colores), a su vez, enumeramos cada una de las caras o colores del cubo asociados a las piezas movibles, a saber, aristas y v\u00e9rtices (v\u00e9ase la imagen). $0,1,2$ para los v\u00e9rtices (pues tienen tres colores), y $0,1$ para las aristas (pues tienen dos posibles colores). Por esta raz\u00f3n muy naturalmente trabajamos con $\\mathbb Z_{3}$ y $\\mathbb Z_{2}$, respectivamente. O m\u00e1s bien:\n",
      "<br> <br> $w = (\\ w_{1}, w_{2}, . . ., w_{12} )\\ \\in \\mathbb Z_{2}^{12}$, es decir, $w = \\{0, 1\\}^{12}$, para la configuraci\u00f3n de las $12$ aristas, donde $w_{i}$ corresponde al $i$-\u00e9sima arista  y el color que \u00e9ste contiene. \n",
      "<br> <br> $v = (\\ v_{1}, v_{2}, . . ., v_{8} )\\ \\in \\mathbb Z_{3}^{8}$, es decir, $v = \\{0, 1, 2\\}^{8}$, para la configuraci\u00f3n de los $8$ v\u00e9rtices, donde $v_{j}$ corresponde a la $j$-\u00e9simo v\u00e9rtice y el color que \u00e9ste contiene."
     ]
    },
    {
     "cell_type": "markdown",
     "metadata": {},
     "source": [
      "AQU\u00cd IR\u00cdA UNA IMAGEN PARA LA ENUMERACI\u00d3N DE LAS ORIENTACIONES"
     ]
    },
    {
     "cell_type": "heading",
     "level": 4,
     "metadata": {},
     "source": [
      "Ejemplo"
     ]
    },
    {
     "cell_type": "markdown",
     "metadata": {},
     "source": [
      "En el cubo armado, fij\u00e9monos en el v\u00e9rtice BRA (blanco, rojo y azul) a la cual le asociamos el $2 , 1, 0$, mientras que al cub\u00edculo que \u00e9sta tiene, le toca el n\u00famero $4$. Ahora supongamos que tras realizar movimientos, en \u00e9ste nuevo cub\u00edculo (de nuevo, usando el inamovible centro como punto de referencia), nos hallamos con BAN (blanco, azul y negro). Por los colores, nuestro vector de descripci\u00f3n de estado del cubo, en la entrada de $w$, $v_{4}$ FALTA\n",
      "<br> <br> Podr\u00edamos resumir toda la informaci\u00f3n anterior con la siguiente definici\u00f3n: "
     ]
    },
    {
     "cell_type": "markdown",
     "metadata": {},
     "source": [
      "Procedamos a ver como podemos interpretar el estado de un cubo en forma gr\u00e1fica a como se ver\u00eda en nuestra notaci\u00f3n y viceversa.\n",
      "Primero, veamos dada una tupla como llegar a su represntacion gr\u00e1fica.\n",
      "Tomemos el vector de permutaciones para los vertices. Observamos que tiene la primera entrada un 1, por lo que el v\u00e9rtice 1 esta en el lugar correspondiente al v\u00e9rtice 1. Ademas vemos que en el lugar 1 de orientaciones de vertices esta en orientaci\u00f3n 0. Asi, sabemos que ademas del lugar correcto esta en la posici\u00f3n correcta. Cada una de estas esquinas debe coincider on el color de su centro correspondiente. Fijemonos en la segunda entrada de $\\rho$. Vemos que esta un cuatro, esto indica que donde deberia estar el v\u00e9rtice 2 (Azul,Negro,Amarillo) esta en su lugar el v\u00e9rtice 4 (Azul, Rojo, Blanco). Pasando a $v$ en la segunda entrada tiene un 1, indica que esta en orientaci\u00f3n  rotada una vez a la derecha. Sea esto asi, tenemos Blanco donde deberia ir el Azul, Azul donde deberia ir el Negro, y Rojo donde deberia ir el Blanco (Por deber\u00eda, me refiero al color que deberia tener si el cubo estubiera resuelto. Esto se comprueba f\u00e1cilmente viendo si el color de cada estampa de la esquina coincide con sus respectivos centros)\n"
     ]
    },
    {
     "cell_type": "code",
     "collapsed": false,
     "input": [
      "ejemplo=cubo()\n",
      "ejemplo.ingresarDatos([1,4,6,5,2,8,3,7],[0,1,0,2,1,1,2,2],[ 2,8,  4,  7 , 3,  1,  5 ,11 ,12 , 6 ,10,  9],[1, 1, 1 ,0 ,1 ,0, 0,1 ,0 ,1, 0 ,0])\n",
      "#ejemplo.ingresarDatos([1,2,3,4,5,6,7,8],[0,0,0,0,0,0,0,0],[ 2,8,  4,  7 , 3,  1,  5 ,11 ,12 , 6 ,10,  9],[1, 1, 1 ,0 ,1 ,0, 0,1 ,0 ,1, 0 ,0])\n",
      "print ejemplo.estado()\n",
      "ejemplo.graficarEstado()"
     ],
     "language": "python",
     "metadata": {},
     "outputs": [
      {
       "ename": "NameError",
       "evalue": "name 'cubo' is not defined",
       "output_type": "pyerr",
       "traceback": [
        "\u001b[1;31m---------------------------------------------------------------------------\u001b[0m\n\u001b[1;31mNameError\u001b[0m                                 Traceback (most recent call last)",
        "\u001b[1;32m<ipython-input-2-8a4e13b3a985>\u001b[0m in \u001b[0;36m<module>\u001b[1;34m()\u001b[0m\n\u001b[1;32m----> 1\u001b[1;33m \u001b[0mejemplo\u001b[0m\u001b[1;33m=\u001b[0m\u001b[0mcubo\u001b[0m\u001b[1;33m(\u001b[0m\u001b[1;33m)\u001b[0m\u001b[1;33m\u001b[0m\u001b[0m\n\u001b[0m\u001b[0;32m      2\u001b[0m \u001b[0mejemplo\u001b[0m\u001b[1;33m.\u001b[0m\u001b[0mingresarDatos\u001b[0m\u001b[1;33m(\u001b[0m\u001b[1;33m[\u001b[0m\u001b[1;36m1\u001b[0m\u001b[1;33m,\u001b[0m\u001b[1;36m4\u001b[0m\u001b[1;33m,\u001b[0m\u001b[1;36m6\u001b[0m\u001b[1;33m,\u001b[0m\u001b[1;36m5\u001b[0m\u001b[1;33m,\u001b[0m\u001b[1;36m2\u001b[0m\u001b[1;33m,\u001b[0m\u001b[1;36m8\u001b[0m\u001b[1;33m,\u001b[0m\u001b[1;36m3\u001b[0m\u001b[1;33m,\u001b[0m\u001b[1;36m7\u001b[0m\u001b[1;33m]\u001b[0m\u001b[1;33m,\u001b[0m\u001b[1;33m[\u001b[0m\u001b[1;36m0\u001b[0m\u001b[1;33m,\u001b[0m\u001b[1;36m1\u001b[0m\u001b[1;33m,\u001b[0m\u001b[1;36m0\u001b[0m\u001b[1;33m,\u001b[0m\u001b[1;36m2\u001b[0m\u001b[1;33m,\u001b[0m\u001b[1;36m1\u001b[0m\u001b[1;33m,\u001b[0m\u001b[1;36m1\u001b[0m\u001b[1;33m,\u001b[0m\u001b[1;36m2\u001b[0m\u001b[1;33m,\u001b[0m\u001b[1;36m2\u001b[0m\u001b[1;33m]\u001b[0m\u001b[1;33m,\u001b[0m\u001b[1;33m[\u001b[0m \u001b[1;36m2\u001b[0m\u001b[1;33m,\u001b[0m\u001b[1;36m8\u001b[0m\u001b[1;33m,\u001b[0m  \u001b[1;36m4\u001b[0m\u001b[1;33m,\u001b[0m  \u001b[1;36m7\u001b[0m \u001b[1;33m,\u001b[0m \u001b[1;36m3\u001b[0m\u001b[1;33m,\u001b[0m  \u001b[1;36m1\u001b[0m\u001b[1;33m,\u001b[0m  \u001b[1;36m5\u001b[0m \u001b[1;33m,\u001b[0m\u001b[1;36m11\u001b[0m \u001b[1;33m,\u001b[0m\u001b[1;36m12\u001b[0m \u001b[1;33m,\u001b[0m \u001b[1;36m6\u001b[0m \u001b[1;33m,\u001b[0m\u001b[1;36m10\u001b[0m\u001b[1;33m,\u001b[0m  \u001b[1;36m9\u001b[0m\u001b[1;33m]\u001b[0m\u001b[1;33m,\u001b[0m\u001b[1;33m[\u001b[0m\u001b[1;36m1\u001b[0m\u001b[1;33m,\u001b[0m \u001b[1;36m1\u001b[0m\u001b[1;33m,\u001b[0m \u001b[1;36m1\u001b[0m \u001b[1;33m,\u001b[0m\u001b[1;36m0\u001b[0m \u001b[1;33m,\u001b[0m\u001b[1;36m1\u001b[0m \u001b[1;33m,\u001b[0m\u001b[1;36m0\u001b[0m\u001b[1;33m,\u001b[0m \u001b[1;36m0\u001b[0m\u001b[1;33m,\u001b[0m\u001b[1;36m1\u001b[0m \u001b[1;33m,\u001b[0m\u001b[1;36m0\u001b[0m \u001b[1;33m,\u001b[0m\u001b[1;36m1\u001b[0m\u001b[1;33m,\u001b[0m \u001b[1;36m0\u001b[0m \u001b[1;33m,\u001b[0m\u001b[1;36m0\u001b[0m\u001b[1;33m]\u001b[0m\u001b[1;33m)\u001b[0m\u001b[1;33m\u001b[0m\u001b[0m\n\u001b[0;32m      3\u001b[0m \u001b[1;31m#ejemplo.ingresarDatos([1,2,3,4,5,6,7,8],[0,0,0,0,0,0,0,0],[ 2,8,  4,  7 , 3,  1,  5 ,11 ,12 , 6 ,10,  9],[1, 1, 1 ,0 ,1 ,0, 0,1 ,0 ,1, 0 ,0])\u001b[0m\u001b[1;33m\u001b[0m\u001b[1;33m\u001b[0m\u001b[0m\n\u001b[0;32m      4\u001b[0m \u001b[1;32mprint\u001b[0m \u001b[0mejemplo\u001b[0m\u001b[1;33m.\u001b[0m\u001b[0mestado\u001b[0m\u001b[1;33m(\u001b[0m\u001b[1;33m)\u001b[0m\u001b[1;33m\u001b[0m\u001b[0m\n\u001b[0;32m      5\u001b[0m \u001b[0mejemplo\u001b[0m\u001b[1;33m.\u001b[0m\u001b[0mgraficarEstado\u001b[0m\u001b[1;33m(\u001b[0m\u001b[1;33m)\u001b[0m\u001b[1;33m\u001b[0m\u001b[0m\n",
        "\u001b[1;31mNameError\u001b[0m: name 'cubo' is not defined"
       ]
      }
     ],
     "prompt_number": 2
    },
    {
     "cell_type": "markdown",
     "metadata": {},
     "source": [
      "**Definici\u00f3n: Vector de descripci\u00f3n de estado del cubo**\n",
      "<div class=\"alert alert-info\">\n",
      "Sea $X$ una configuraci\u00f3n del cubo. El vector de descripci\u00f3n del estado $X$ es $(\\rho, v, \\sigma, w ) \\in S_{8} \\times \\mathbb Z_{3}^{8} \\times S_{12} \\times \\mathbb Z_{2}^{12} $, donde:\n",
      "<br> <ul> <li> $\\rho \\in S_{8}$: codifica la permutaci\u00f3n de los v\u00e9rtices respecto a los centro inamovibles: $\\rho (i) = j$, si la arista $j$ est\u00e1 en el cub\u00edculo $i$  \n",
      "<li>  $v \\in \\mathbb Z_{3}^{8}$: el n\u00famero $v_{i}$, corresponde a la orientacion del v\u00e9rtice $j$ en el cub\u00edculo $i$  \n",
      "<li> $\\sigma \\in S_{12}$: codifica la permutaci\u00f3n de las aristas respecto a los centro inamovibles: $\\sigma (i) = j$, si el v\u00e9rtice $j$ est\u00e1 en el cub\u00edculo $i$\n",
      "<li>  $w \\in \\mathbb Z_{2}^{12}$: el n\u00famero $v_{j}$, corresponde a la orientacion de la arista $j$ en el cub\u00edculo $i$  "
     ]
    },
    {
     "cell_type": "heading",
     "level": 2,
     "metadata": {},
     "source": [
      "Entrada v\u00e1lida"
     ]
    },
    {
     "cell_type": "markdown",
     "metadata": {},
     "source": [
      "Ya estamos en condiciones de programar. Las siguientes funciones verifican que el vector de descripci\u00f3n de estado del cubo, en efecto, se trate de una entrada v\u00e1lida (es decir, que cumpla con la definici\u00f3n anterior)."
     ]
    },
    {
     "cell_type": "code",
     "collapsed": false,
     "input": [
      "def ZnValido(a): #Te dice si el arreglo solo tiene elementos de Zn, para cualquier n >= 2\n",
      "\n",
      "        a = np.unique(a)\n",
      "        A = np.zeros(len(a)).astype(bool) #Lo hacemos ahora con un arreglo inicialmente con Falses.\n",
      "        for i in range(0, len(a)):\n",
      "            if i == a[i]:\n",
      "                A[i] = True\n",
      "            else:\n",
      "                A[i] = False\n",
      "        return A.all()\n",
      "def EntradaValida(a,b,c,d): \n",
      "\n",
      "        \"\"\"a array de tama\u00f1o 8, con elementos \u00fanicos por ser permutaci\u00f3n\n",
      "           b array de tama\u00f1o 8, cuyas entradas solo pueden ser 0,1,2\n",
      "           b array de tama\u00f1o 12, con elementos \u00fanicos por ser permutaci\u00f3n       \n",
      "           d array de tama\u00f1o 12, cuyas entradas solo pueden ser 0,1\"\"\"\n",
      "\n",
      "        EntradaValida = np.zeros(3).astype(bool)\n",
      "\n",
      "        #Primero checamos que las longitudes sean v\u00e1lidas\n",
      "\n",
      "        longitudes = np.zeros(4).astype(bool) #Crea un array de cuatro Falses. Se cambian las entradas por Trues si se cumple la condici\u00f3n.\n",
      "        if len(a) == 8: #Permutaci\u00f3n en S8\n",
      "            longitudes[0] = True\n",
      "        if len(b) == 8: #Elemento en (Z3)^8\n",
      "            longitudes[1] = True\n",
      "        if len(c) == 12: #Permutaci\u00f3n en S12\n",
      "            longitudes[2] = True\n",
      "        if len(d) == 12: #Elemento en (Z2)^12\n",
      "            longitudes[3] = True\n",
      "        EntradaValida[0] = longitudes.all()  #Si todas las condiciones son v\u00e1lidas, devuelve True.  \n",
      "\n",
      "        \"\"\"Como a y b son permutaciones, no puede haber elementos repetidos.\n",
      "        Para \"modelarlas\", la entrada i-\u00e9sima del array corresponde a la re ubicaci\u00f3n del elemento a esa nueva posici\u00f3n,\n",
      "        por ejemplo, (1,2,3,4,5,6,8,7), nos dice que se intercambi\u00f3 la entrada s\u00e9ptima por la octava.\n",
      "        De esta manera, una permutaci\u00f3n en S8 es v\u00e1lida si tiene ocho elementos \u00fanicos\"\"\"\n",
      "\n",
      "        permutaciones = np.zeros(2).astype(bool)\n",
      "        if len(np.unique(a)) == 8:\n",
      "            permutaciones[0] = True\n",
      "        if len(np.unique(c)) == 12:\n",
      "            permutaciones[1] = True\n",
      "        EntradaValida[1] = permutaciones.all() #Si todas las condiciones son v\u00e1lidas, devuelve True\n",
      "\n",
      "        #Ahora hay que checar que b y d solo tengan 0,1,2 y 0,1 respectivamente.\n",
      "        enterosModuloN = np.zeros(2).astype(bool) #Lo hacemos ahora con un arreglo inicialmente con Falses.\n",
      "\n",
      "        if ZnValido(b) == True:\n",
      "            enterosModuloN[0] = True\n",
      "\n",
      "        if ZnValido(d) == True:\n",
      "            enterosModuloN[1] = True\n",
      "\n",
      "        EntradaValida[2] = enterosModuloN.all() #Si todas las condiciones son v\u00e1lidas, devuelve True\n",
      "\n",
      "        return EntradaValida.all()"
     ],
     "language": "python",
     "metadata": {},
     "outputs": [],
     "prompt_number": 3
    },
    {
     "cell_type": "heading",
     "level": 2,
     "metadata": {},
     "source": [
      "Cubo v\u00e1lido <br> ***Primer Teorema Fundamental del Cubo***"
     ]
    },
    {
     "cell_type": "markdown",
     "metadata": {},
     "source": [
      "Claramente nuestro modelo tiene una mayor cantidad de configuraciones posibles que la que tiene en realidad un cubo f\u00edsico.\n",
      "Estamos tomando en cuenta tambi\u00e9n las posiciones ilegales del cubo: aqu\u00e9llas que son imposibles de alcanzar con movimientos v\u00e1lidos (m\u00e1s adelante veremos un modelo para esto). Por ejemplo, es f\u00e1cil ver que el vector de estado $( \\epsilon_{8}, (0,. . .,0), \\epsilon_{12}, (1, 0, . . ., 0)\\ )$ ($\\epsilon_{i}$ es la funci\u00f3n identidad en $S_{i}$) es imposible de alcanzar, aunque s\u00ed cumple con la definici\u00f3n."
     ]
    },
    {
     "cell_type": "markdown",
     "metadata": {},
     "source": [
      "**Definici\u00f3n: Grupo del cubo v\u00e1lido e inv\u00e1lido**\n",
      "\n",
      "<div class=\"alert alert-info\">\n",
      "Al conjunto $RC_{3}^{*} = S_{8} \\times \\mathbb Z_{3}^{8} \\times S_{12} \\times \\mathbb Z_{2}^{12}$ se le llama grupo inv\u00e1lido del cubo.\n",
      "<br> Mientras que al conjunto $RC_{3} = \\{X \\in RC_{3}^{*}: X$ es una configuraci\u00f3n legal de cubo $ \\}$ se le llama grupo v\u00e1lido del cubo."
     ]
    },
    {
     "cell_type": "markdown",
     "metadata": {},
     "source": [
      "Es f\u00e1cil ver que $RC_{3} \\subset RC_{3}^{*}$, de hecho, \u00a1 $|RC_{3}| = 8! 12! 3^{8} 2^{12} \\approx 4.3 \\times 10^{19} < 5.1 \\times 10^{20} \\approx 2^{27} 3^{14} 5^{3} 7^{2} 11 = |RC_{3}^{*}|$ ! Por lo que es l\u00f3gico preguntarse \u00bfc\u00f3mo caracterizar las configuraciones legales del cubo para moderlarlo computacionalmente? El siguiente teorema nos da la soluci\u00f3n. Omitiremos la demostraci\u00f3n del mismo pues no le compete a un trabajo de esta naturaleza. "
     ]
    },
    {
     "cell_type": "markdown",
     "metadata": {},
     "source": [
      "**Proposici\u00f3n: Primer Teorema Fundamental del Cubo**\n",
      "\n",
      "<div class=\"alert alert-info\">\n",
      "Un vector de estado $(\\rho, v, \\sigma, w ) \\in S_{8} \\times \\mathbb Z_{3}^{8} \\times S_{12} \\times \\mathbb Z_{2}^{12} $ representa una configuraci\u00f3n legal del cubo si, y s\u00f3lo si, satisface las siguientes propiedades:\n",
      "<ul>\n",
      "<li> $sign(\\rho) = sign(\\sigma) $\n",
      "<li> $v_{1} + v_{2} + . . . + v_{8} \\equiv 0$ $(mod$ $8) $\n",
      "<li> $w_{1} + w_{2} + . . . + w_{12} \\equiv 0$ $(mod$ $2) $"
     ]
    },
    {
     "cell_type": "markdown",
     "metadata": {},
     "source": [
      "Donde \"$sign$\", para cada permutaci\u00f3n anterior, se refiere a su paridad. Para conocer la definici\u00f3n de paridad de una permutaci\u00f3n, ver: \n",
      "<br> http://en.wikipedia.org/wiki/Parity_of_a_permutation"
     ]
    },
    {
     "cell_type": "code",
     "collapsed": false,
     "input": [
      "def perm_parity(lst):\n",
      "        '''\\\n",
      "        Dada una permutacion de digitos de 1..N en order como una lista, \n",
      "        regresa su paridad : +1 si es par; -1 si es impar.\n",
      "        '''\n",
      "        parity = 1\n",
      "        for i in range(0,len(lst)-1):\n",
      "            if lst[i] != i+1:\n",
      "                parity *= -1\n",
      "                mn = min(range(i,len(lst)), key=lst.__getitem__)\n",
      "                lst[i],lst[mn] = lst[mn],lst[i]\n",
      "        return parity \n",
      "    \n",
      "def CuboValido(a,b,c,d): #La funci\u00f3n devuelve True o False, dependiendo de si cumple la caracterizaci\u00f3n de RC3 o no.\n",
      "\n",
      "    CuboValido = np.zeros(4).astype(bool)\n",
      "    #Condici\u00f3n 1:\n",
      "    if np.sum(b) % 3 == 0:#la suma de las orientaciones de los vertices sea 0 modulo 3\n",
      "        CuboValido[0] = True\n",
      "    #Condici\u00f3n 2:\n",
      "    if np.sum(d) % 2 == 0:#la suma de las orientaciones de las aristas sea 0 modulo 2\n",
      "        CuboValido[1] = True\n",
      "    #Condici\u00f3n 3:\n",
      "    if perm_parity(a) == perm_parity(c):#checa que la paridad de las aristas y los vertices sea la misma\n",
      "        CuboValido[2] = True    \n",
      "    #Condici\u00f3n extra: Entrada v\u00e1lida:\n",
      "    if EntradaValida(a,b,c,d) == True:\n",
      "        CuboValido[3] = True\n",
      "\n",
      "    return CuboValido.all()"
     ],
     "language": "python",
     "metadata": {},
     "outputs": [],
     "prompt_number": 4
    },
    {
     "cell_type": "heading",
     "level": 4,
     "metadata": {},
     "source": [
      "Ejemplos"
     ]
    },
    {
     "cell_type": "markdown",
     "metadata": {},
     "source": [
      "Configuraci\u00f3n del cubo armado correctamente"
     ]
    },
    {
     "cell_type": "code",
     "collapsed": false,
     "input": [
      "a0 = np.array([1,2,3,4,5,6,7,8]) #la identidad en S8\n",
      "b0 = np.array([0,0,0,0,0,0,0,0]) #La identidad en (Z3)^8\n",
      "c0 = np.array([1,2,3,4,5,6,7,8,9,10,11,12]) #la identidad en S12\n",
      "d0 = np.array([0,0,0,0,0,0,0,0,0,0,0,0]) #La identidad en (Z2)^12\n",
      "\n",
      "print CuboValido(a0,b0,c0,d0)"
     ],
     "language": "python",
     "metadata": {},
     "outputs": [
      {
       "output_type": "stream",
       "stream": "stdout",
       "text": [
        "True\n"
       ]
      }
     ],
     "prompt_number": 5
    },
    {
     "cell_type": "markdown",
     "metadata": {},
     "source": [
      "Configuraci\u00f3n legal de un cubo"
     ]
    },
    {
     "cell_type": "code",
     "collapsed": false,
     "input": [
      "a1 =np.array([1,6,2,4,5,7,3,8]) \n",
      "b1 =np.array([0,1,2,0,0,2,1,0]) \n",
      "c1 =np.array([1,6,3,4,5,10,2,8,9,7,11,12]) \n",
      "d1 =np.array([0,1,0,0,0,1,1,0,0,1,0,0]) \n",
      "\n",
      "print CuboValido(a1,b1,c1,d1)"
     ],
     "language": "python",
     "metadata": {},
     "outputs": [
      {
       "output_type": "stream",
       "stream": "stdout",
       "text": [
        "True\n"
       ]
      }
     ],
     "prompt_number": 6
    },
    {
     "cell_type": "markdown",
     "metadata": {},
     "source": [
      "Configuraci\u00f3n ilegal de un cubo"
     ]
    },
    {
     "cell_type": "code",
     "collapsed": false,
     "input": [
      "b2 = np.array([1,0,0,0,0,0,0,0]) \n",
      "\n",
      "print EntradaValida(a0,b2,c0,d0)\n",
      "print CuboValido(a0,b2,c0,d0)"
     ],
     "language": "python",
     "metadata": {},
     "outputs": [
      {
       "output_type": "stream",
       "stream": "stdout",
       "text": [
        "True\n",
        "False\n"
       ]
      }
     ],
     "prompt_number": 7
    },
    {
     "cell_type": "markdown",
     "metadata": {},
     "source": [
      "AQU\u00cd VA UNA DESCRIPCI\u00d3N SOBRE LAS SIGUIENTES FUNCIONES QUE SIVEN PARA GRAFICAR"
     ]
    },
    {
     "cell_type": "code",
     "collapsed": false,
     "input": [
      "def graficar(cadAristas,cadVertices):#Necesita cadenas de secuencias de colores para graficar con esos mismos.\n",
      "    for e in xrange(0,3,1):#el proceso se repite tres veces para que no queden transparentes\n",
      "        xAr = np.array([5,11,6,8,5,5,4,2,1,12,9,10,7,6,3,4,5,11,6,8,5,5,4,2])\n",
      "        #en estos arreglos queda determinada la posici\u00f3n de las esferas, lo que cambia es su color dependiendo de las secuencias\n",
      "        #colores cadAristas y cadVertices\n",
      "        yAr = np.array([9,6,8,6,7,6,8,6,5,5,5,5,5,5,5,5,1,4,2,4,3,4,2,4])#lo mismo pero para la coordenada y\n",
      "\n",
      "        colorsAr=[]\n",
      "        cadenaColorsAr=cadAristas#Primero, descomponemos la secuencia de las aristas\n",
      "        #cadenaColorsAr='bkbybrwbwkykrywrkgyggrwg'\n",
      "        for e in cadenaColorsAr:#descompone el string en muchos string de un solo carecter (como un split)\n",
      "            colorsAr.append(e)\n",
      "        colorsAr = np.array(colorsAr)# vuelve arreglo a la lista\n",
      "        area = np.pi * (100 * np.ones(24)**2) # vector de srea de los circulos, la misma para todos\n",
      "\n",
      "        plt.scatter(xAr, yAr, s=area, c=colorsAr, alpha=0.5)#graficamos las aristas\n",
      "\n",
      "\n",
      "        xVr = np.array([4,1,12,6,10,9,6,7,6,4,4,3,4,12,1,6,9,10,6,6,7,4,3,4])#estas son las coordenadas de los vertices\n",
      "        yVr = np.array([9,6,6,9,6,6,7,6,6,7,6,6,1,4,4,1,4,4,3,4,4,3,4,4])\n",
      "\n",
      "        colorsVr=[]\n",
      "        cadenaColorsVr=cadVertices\n",
      "        #cadenaColorsVr='bwkbykrbywrbwgkgykgrywrg'\n",
      "        for e in cadenaColorsVr:#descompone la secuencia de colores de los vertices\n",
      "            colorsVr.append(e)\n",
      "        colorsVr = np.array(colorsVr)\n",
      "        area = np.pi * (100 * np.ones(24)**2) # define areas\n",
      "\n",
      "        plt.scatter(xVr, yVr, s=area, c=colorsVr, alpha=0.5)#grafica\n",
      "\n",
      "        xCr = np.array([5,5,5,2,8,11])#lo mismo para los centros\n",
      "        yCr = np.array([8,5,2,5,5,5])\n",
      "\n",
      "        colorsCr=[]\n",
      "        cadenaColorsCr='brgwyk'#la secuencia de colores es fija ya que estos no cambian / no se mueven\n",
      "        for e in cadenaColorsCr:\n",
      "            colorsCr.append(e)\n",
      "        colorsCr = np.array(colorsCr)\n",
      "        area = np.pi * (100 * np.ones(6)**2) # area\n",
      "\n",
      "        plt.scatter(xCr, yCr, s=area, c=colorsCr, alpha=0.5)\n",
      "\n",
      "\n",
      "    plt.show()\n",
      "    "
     ],
     "language": "python",
     "metadata": {},
     "outputs": [],
     "prompt_number": 8
    },
    {
     "cell_type": "code",
     "collapsed": false,
     "input": [
      "def generaMatrizVertices():#como tal no es un m\u00e9todo, si no que genera una tabla de datos est\u00e1tica que se usa como funci\u00f3n de posiciones\n",
      "    #que regresa el color que deberia haber en dado lugar de vertice con determinada orientacion\n",
      "    r0=[]#dado que este en la orientaci\u00f3n cero, en la secuencia se muestra que color deber\u00eda haber en cada v\u00e9rtice\n",
      "    cadena='bbbbgggg'\n",
      "    for e in cadena:\n",
      "        r0.append(e)\n",
      "    r1=[]#igual para la orientaci\u00f3n 1\n",
      "    cadena='wkyrkyrw'\n",
      "    for e in cadena:\n",
      "        r1.append(e)\n",
      "    r2=[]#y la 2\n",
      "    cadena='kyrwwkyr'\n",
      "    for e in cadena:\n",
      "        r2.append(e)#separa la cadena para que sean listas dentro de listas y pueda buscarse informaci\u00f3n como si fueran matrices\n",
      "    matVertices=[]\n",
      "    matVertices.append(r0)#lo mete en la lista de filas\n",
      "    matVertices.append(r1)\n",
      "    matVertices.append(r2)\n",
      "    return matVertices\n",
      "\n",
      "def generaMatrizAristas():#lo mismo que generaMatrizVertices() pero para aristas\n",
      "    r0=[]#dada la posici\u00f3n 0, que hay en cada arista\n",
      "    cadena='bbbbwyywgggg'\n",
      "    for e in cadena:\n",
      "        r0.append(e)\n",
      "    r1=[]\n",
      "    cadena='kyrwkkrrkyrw'\n",
      "    for e in cadena:\n",
      "        r1.append(e)\n",
      "    matVertices=[]\n",
      "    matVertices.append(r0)\n",
      "    matVertices.append(r1)\n",
      "    return matVertices"
     ],
     "language": "python",
     "metadata": {},
     "outputs": [],
     "prompt_number": 9
    },
    {
     "cell_type": "code",
     "collapsed": false,
     "input": [
      "def fVertices(i,j,matVertices):#numero de vertice, orientacion, matriz donde se encuentran las imagenes de la funci\u00f3n\n",
      "    return matVertices[j][i-1]#es una funcion asociada a la matriz de datos, cuidado con ver quen es j y quien es i\n",
      "\n",
      "def fAristas(i,j,matAristas):#numero de arista, orientacion, matriz donde se encuentran las imagenes de la funci\u00f3n\n",
      "    return matAristas[j][i-1]#lo mismo que fvertices()"
     ],
     "language": "python",
     "metadata": {},
     "outputs": [],
     "prompt_number": 10
    },
    {
     "cell_type": "code",
     "collapsed": false,
     "input": [
      "def generaCadenaColoresVertices(vectores, vectoresOr,matVertices):#dada ciertos arreglos de vertices y sus respectivas orientaciones\n",
      "    #podemos determinar que color deberia mostrarse en cada cara de vertice para representar gr\u00e1ficamente el estado del cubo\n",
      "    a0 = vectores\n",
      "    b0 =vectoresOr\n",
      "    col=[]\n",
      "    for j in xrange(0,8,1):#para cada vertice\n",
      "        for i in xrange(0,3,1):#y para cada cara del vertice (recordemos que son 3)\n",
      "            col.append(fVertices(a0[j],(b0[j] +i) % 3,matVertices))#con la funci\u00f3n le asigna el color que le corresponde a esa cara\n",
      "            #la distribuci\u00f3n es especificamente esta ya que debe coincidir con la secuencia definida en las coordenadas de la funcion \n",
      "            #grafica()\n",
      "    return col#regresa el orden de colores para ser graficada\n",
      "\n",
      "def generaCadenaColoresAristas(aristas, aristasOr,matAristas):#lo mismo que generaCadenaColoresVertices(), pero para aristas\n",
      "    a0 = aristas\n",
      "    b0 =aristasOr\n",
      "    col=[]\n",
      "    for j in xrange(0,12,1):#para cada arista\n",
      "        for i in xrange(0,2,1):#para cada cara de arista, recordemos que son 2\n",
      "            col.append(fAristas(a0[j],(b0[j] +i) % 2,matAristas))\n",
      "    return col"
     ],
     "language": "python",
     "metadata": {},
     "outputs": [],
     "prompt_number": 11
    },
    {
     "cell_type": "code",
     "collapsed": false,
     "input": [
      "def reversaSecuencia(sec):#dada una secuencia de movimientos v\u00e1lidos (FBUDLR), genera su soluci\u00f3n m\u00e1s evidente al seguir en reversa cada movimiento \n",
      "    #agregando a la secuencia de resuesta su inverso (es decir 3 veces el mismo ya que estamos hablando de rotaciones que generan\n",
      "    #subgrupos de 4 elementos\n",
      "    n=len(sec)#la longitud de la secuencia\n",
      "    revsec=''#la lista donde se iran guardando los pasos\n",
      "    for i in xrange(0,n,1):#va uno por uno revisando los movimientos de adelante para atras\n",
      "        revsec=revsec + (sec[n-1-i])#lo guarda tres veces en la secuencia de soluci\u00f3n\n",
      "        revsec=revsec + (sec[n-1-i])\n",
      "        revsec=revsec + (sec[n-1-i])\n",
      "    return revsec#regresa la secuencia, si se aplica al cubo este volvera al estado anterior a la secuencia de movimientos\n",
      "#En particular, si estaba resuelto, sirve como soluci\u00f3n"
     ],
     "language": "python",
     "metadata": {},
     "outputs": [],
     "prompt_number": 12
    },
    {
     "cell_type": "code",
     "collapsed": false,
     "input": [
      "#Es un aleatorio usado para generar cadenas de orientaciones\n",
      "def aleatorio(longitud,limiteinf, limitesup):#cuantos elementos tiene y hasta que enteros llega el aleatorio\n",
      "    resp=[]\n",
      "    for e in xrange(0,longitud,1):\n",
      "        resp.append(random.randint(limiteinf, limitesup))\n",
      "    return resp\n",
      "\n",
      "#genera aleatoriamente una permutacion, se usa para aleatorizar posiciones\n",
      "def permutacion(n):\n",
      "    aux=[]\n",
      "    resp=[]\n",
      "    for e in xrange(0,n,1):\n",
      "        aux.append(e)\n",
      "    for e in xrange(0,n,1):\n",
      "        random.randint(0,n-1-e)\n",
      "        resp.append(aux.pop(random.randint(0,n-1-e)))\n",
      "    return resp\n",
      "\n",
      "#genera aleatoriamente cadenas de rotaciones, las da en strings\n",
      "def secuenciaAleatoria(numeroDeRotaciones):\n",
      "    secuencia=aleatorio(numeroDeRotaciones,1,6)\n",
      "    resp=\"\"\n",
      "    rotaciones = {#diccionario\n",
      "            1 : 'D',\n",
      "            2 : 'U',\n",
      "            3 : 'R',\n",
      "            4 : 'L',\n",
      "            5 : 'F',\n",
      "            6 : 'B',\n",
      "            }\n",
      "\n",
      "    for e in secuencia:\n",
      "        resp=resp+rotaciones[e]\n",
      "    print resp\n",
      "    \n",
      "#checa si dos arreglos son iguales t\u00e9rmino a t\u00e9rmino\n",
      "def arreglosIguales(arr1,arr2):\n",
      "    resp=True\n",
      "    if(len(arr1)==len(arr2)):\n",
      "        for e in xrange(0,len(arr1),1):\n",
      "            if(arr1[e]!=arr2[e]):\n",
      "                resp=False\n",
      "    else:\n",
      "        resp=False\n",
      "    return resp\n"
     ],
     "language": "python",
     "metadata": {},
     "outputs": [],
     "prompt_number": 13
    },
    {
     "cell_type": "code",
     "collapsed": false,
     "input": [
      "def traductor1(a1,a2,v1,v2):\n",
      "    biblioteca1={10:'UB ',11:'BU ',20:'UR ',21:'RU ',30:'UF ',31:'FU ',40:'UL ',41:'LU ',50:'LB ',51:'BL ',60:'RB ',61:'BR ',70:'RF ',71:'FR ',80:'LF ',81:'FL ',90:'DB ',91:'BD ',100:'DR ',101:'RD ',110:'DF ',111:'FD ',120:'DL ',121:'LD '}\n",
      "    biblioteca2={10:'UBL ',12:'BLU ',11:'LUB ',20:'URB ',22:'RBU ',21:'BUR ',30:'UFR ',32:'FRU ',31:'RUF ',40:'ULF ',42:'LFU ',41:'FUL ',50:'DLB ',52:'LBD ',51:'BDL ',60:'DBR ',62:'BRD ',61:'RDB ',70:'DRF ',72:'RFD ',71:'FDR ',80:'DFL ',82:'FLD ',81:'LDF '}\n",
      "    \n",
      "    i=''\n",
      "    for j in [2,1,0,3,10,9,8,11,6,7,5,4]:\n",
      "        if j in [6,7,5,4]:\n",
      "            i+=biblioteca1[a1[j]*10+(a2[j]+1)%2]\n",
      "        else:\n",
      "            i+=biblioteca1[a1[j]*10+a2[j]]\n",
      "    for j in [2,1,0,3,6,7,4,5]:\n",
      "        i+=biblioteca2[v1[j]*10+v2[j]]\n",
      "    return i\n",
      "def traductor2(s):\n",
      "    st=''\n",
      "    for e in s:\n",
      "        if not e==' ':\n",
      "            st+=e\n",
      "    st1=''\n",
      "    for e in range(0,len(st)/2):\n",
      "        for i in range(0,int(st[2*e+1])):\n",
      "            st1+=st[2*e]\n",
      "    return st1"
     ],
     "language": "python",
     "metadata": {},
     "outputs": [],
     "prompt_number": 28
    },
    {
     "cell_type": "code",
     "collapsed": false,
     "input": [
      "def algoritmo(entrada):\n",
      "    T=[]\n",
      "    S=[0]*20,'QTRXadbhEIFJUVZYeijf',0\n",
      "    I='FBRLUD'\n",
      "\n",
      "    G=[(~i%8,i/8-4)for i in map(ord,'ouf|/[bPcU`Dkqbx-Y:(+=P4cyrh=I;-(:R6')]\n",
      "    R=range\n",
      "\n",
      "    def M(o,s,p):\n",
      "     z=~p/2%-3;k=1\n",
      "     for i,j in G[p::6]:i*=k;j*=k;o[i],o[j]=o[j]-z,o[i]+z;s[i],s[j]=s[j],s[i];k=-k\n",
      "\n",
      "    N=lambda p:sum([i<<i for i in R(4)for j in R(i)if p[j]<p[i]])\n",
      "\n",
      "    def H(i,t,s,n=0,d=()):\n",
      "     if i>4:n=N(s[2-i::2]+s[7+i::2])*84+N(s[i&1::2])*6+divmod(N(s[8:]),24)[i&1]\n",
      "     elif i>3:\n",
      "      for j in s:l='UZifVYje'.find(j);t[l]=i;d+=(l-4,)[l<4:];n-=~i<<i;i+=l<4\n",
      "      n+=N([t[j]^t[d[3]]for j in d])\n",
      "     elif i>1:\n",
      "      for j in s:n+=n+[j<'K',j in'QRab'][i&1]\n",
      "     for j in t[13*i:][:11]:n+=j%(2+i)-n*~i\n",
      "     return n\n",
      "\n",
      "    def P(i,m,t,s,l=''):\n",
      "     for j in~-i,i:\n",
      "      if T[j][H(j,t,s)]<m:return\n",
      "     if~m<0:print l;return t,s\n",
      "     for p in R(6):\n",
      "      u=t[:];v=s[:]\n",
      "      for n in 1,2,3:\n",
      "       M(u,v,p);r=p<n%2*i or P(i,m+1,u,v,l+I[p]+`n`)\n",
      "       if r>1:return r\n",
      "\n",
      "    s=entrada.split()\n",
      "    o=[-(p[-1]in'UD')or p[0]in'RL'or p[1]in'UD'for p in s]\n",
      "    s=[chr(64+sum(1<<I.find(a)for a in x))for x in s]\n",
      "\n",
      "    for i in R(7):\n",
      "     m=0;C={};T+=C,;x=[S]\n",
      "     for j,k,d in x:\n",
      "      h=H(i,j,k)\n",
      "      for p in R(C.get(h,6)):\n",
      "       C[h]=d;u=j[:];v=list(k)\n",
      "       for n in i,0,i:M(u,v,p);x+=[(u[:],v[:],d-1)]*(p|1>n)\n",
      "     if~i&1:\n",
      "      while[]>d:d=P(i,m,o,s);m-=1\n",
      "      o,s=d"
     ],
     "language": "python",
     "metadata": {},
     "outputs": [],
     "prompt_number": 22
    },
    {
     "cell_type": "code",
     "collapsed": false,
     "input": [
      "class cubo:\n",
      "    \n",
      "    def __init__(self):#siempre se inicializa un cubo en su estado de resuelto\n",
      "        self.vertices= np.array([1,2,3,4,5,6,7,8]) #la identidad en S8\n",
      "        self.verticesOr=np.array([0,0,0,0,0,0,0,0]) #La identidad en (Z3)^8\n",
      "        self.aristas=np.array([1,2,3,4,5,6,7,8,9,10,11,12]) #la identidad en S12\n",
      "        self.aristasOr= np.array([0,0,0,0,0,0,0,0,0,0,0,0]) #La identidad en (Z2)^12\n",
      "        \n",
      "    def ingresarDatos(self,vertices,verticesOr,aristas, aristasOr):#dado listas con una permutacion de S8 (posici\u00f3n de los v\u00e9rtices)\n",
      "        #, seguida de un elemento de Z3^8 (orientaci\u00f3n de los v\u00e9rtices), \n",
      "        #seguido de una permutaci\u00f3n de S12 (posici\u00f3n de las aristas), seguida de un elemento de Z2^12 (orientaci\u00f3n de las aristas)\n",
      "        #estas son las nuevas condiciones del cubo, debe entregarse como listas ya en el m\u00e9todo se transforman en arreglos\n",
      "        #devuelve un true si hizo el cambio ya que era valido, devuelve un false si no lo hizo ya que no era un estado v\u00e1lido\n",
      "        resp=False\n",
      "        if(EntradaValida(np.array(vertices),np.array(verticesOr),np.array(aristas),np.array(aristasOr))):\n",
      "            if(CuboValido(np.array(vertices),np.array(verticesOr),np.array(aristas),np.array(aristasOr))):\n",
      "                self.vertices=np.array(vertices)\n",
      "                self.verticesOr=np.array(verticesOr)\n",
      "                self.aristas=np.array(aristas)\n",
      "                self.aristasOr=np.array(aristasOr)\n",
      "                resp=True\n",
      "        return resp\n",
      "    \n",
      "    def revolverEsquinas(self):#Solo revuelve las esquinas y lo dem\u00e1s lo deja en estado de resuelto\n",
      "        self.aristas=np.array([1,2,3,4,5,6,7,8,9,10,11,12]) #la identidad en S12\n",
      "        self.aristasOr= np.array([0,0,0,0,0,0,0,0,0,0,0,0]) #La identidad en (Z2)^12\n",
      "        while True:\n",
      "            self.vertices= np.array(permutacion(8)) \n",
      "            self.verticesOr=np.array(aleatorio(8,0,2)) \n",
      "            if self.CuboValido() :\n",
      "                break\n",
      "                \n",
      "    def revolver(self):#Asigna arreglos aleatorios v\u00e1lidos al cubo\n",
      "        while True:\n",
      "            self.vertices= np.array(permutacion(8)) #la identidad en S8\n",
      "            self.verticesOr=np.array(aleatorio(8,0,2)) \n",
      "            self.aristas=np.array(permutacion(12)) \n",
      "            self.aristasOr= np.array(aleatorio(12,0,1)) #La identidad en (Z2)^12\n",
      "            if self.CuboValido() :\n",
      "                break\n",
      "    \n",
      "    \n",
      "        \n",
      "    def CuboValido(self):#llama a la funci\u00f3n de CuboValido que determina si este estado cumple con el teorema fundamental de cubologia \n",
      "        #y por tanto es un estado que puede alcanzarse con las 6 rotaciones existentes\n",
      "        \n",
      "        return CuboValido(self.vertices,self.verticesOr,self.aristas,self.aristasOr)\n",
      "    \n",
      "    def estaResuelto(self):#checa si el cubo esta resuelto, True si es asi, False si no\n",
      "        correcto = np.zeros(4).astype(bool) #Crea un array de cuatro Falses. Se cambian las entradas por Trues si se cumple la condici\u00f3n.\n",
      "        if arreglosIguales(self.vertices,np.array([1,2,3,4,5,6,7,8])):\n",
      "            correcto[0] = True\n",
      "        if arreglosIguales(self.verticesOr,np.array([0,0,0,0,0,0,0,0])):\n",
      "            correcto[1] = True\n",
      "        if arreglosIguales(self.aristas,np.array([1,2,3,4,5,6,7,8,9,10,11,12])):\n",
      "            correcto[2] = True\n",
      "        if arreglosIguales(self.aristasOr,np.array([0,0,0,0,0,0,0,0,0,0,0,0])):\n",
      "            correcto[3] = True\n",
      "        return correcto.all()  #Si todas las condiciones son v\u00e1lidas, devuelve True.  \n",
      "       \n",
      "    def mueveEsquinas(self):#Mueve las esquinas segun un algoritmo encontrado en la red\n",
      "        self.secuencia('RRRDRDDDRRRDR UUU RRRDDDRDRRRDDDR')\n",
      "        print 1\n",
      "    def resolverRotando(self):#un m\u00e9todo que no funciona ya que tarda mucho\n",
      "        while (self.estaResuelto()==False):\n",
      "            self.mueveEsquinas()\n",
      "        \n",
      "    \n",
      "    def estado(self):#imprime los arreglos del estado\n",
      "        print self.vertices\n",
      "        print self.verticesOr\n",
      "        print self.aristas\n",
      "        print self.aristasOr\n",
      "        \n",
      "    \n",
      "    \n",
      "    def aplicarSecuencia(self, sec):#sec es un string, recordemos que un string es iterable, y toma a cada carecter como elemento de una lista\n",
      "        \n",
      "        #esta funcion puede leer un string (sec) que contenga secuencia de movimientos b\u00e1sicos descritos por su \n",
      "        #nombre en mayusculas.Descompone en caracteres y metiendolo al diccionario descrito abajo llama a su funci\u00f3n correspondiente\n",
      "        #para que lo ejecute en el estado actual del cubo\n",
      "        \n",
      "        opciones = {#a cada caracter del string lo manda al nombre de una funcion\n",
      "#se incluyen las versiones inversas \n",
      "                'D' : self.D,\n",
      "                'U' : self.U,\n",
      "                'R' : self.R,\n",
      "                'L' : self.L,\n",
      "                'F' : self.F,\n",
      "                'B' : self.B,\n",
      "                ' ':self.hacerNada,#puede seguir leyendo aunque este espaciado, llama a no hacer nada\n",
      "                }\n",
      "        \n",
      "        for e in sec:\n",
      "            opciones[e]()#llama a la funcion con el nombre que le asigna el diccionario\n",
      "            \n",
      "    def hacerNada(self):#cuando en la secuencia de caracteres tenga un espacio pueda llamar a esta funcion y no hacer nada\n",
      "        nada=1\n",
      "        \n",
      "    def traductor(self):\n",
      "        return traductor1(self.aristas,self.aristasOr,self.vertices,self.verticesOr)\n",
      "    \n",
      "    def resolverPorAlgoritmo(self):\n",
      "        algoritmo(self.traductor())\n",
      "    \n",
      "    def rotacion(self,v1,v2,v3,v4,vr1,vr2,vr3,vr4,a1,a2,a3,a4,ar1,ar2,ar3,ar4):#esta secuencia de entrada determina que tipo de rotaci\u00f3n es \n",
      "        #(FBDULR)\n",
      "        #esta es la estructura basica de una rotaci\u00f3n\n",
      "        #sabemos que cualquier rotaci\u00f3n mueve exactamente 4 vertices y 4 aristas, por lo que altera su posici\u00f3n y su \n",
      "        #orientacion, para algunas basta con que se pase la orientacion al nuevo lugar, pero aveces una peque\u00f1a modificaci\u00f3n debe\n",
      "        #hacerse, principalmente para las rotaciones laterales ya que recordemos el cubo esta est\u00e1tico y la cara del frente\n",
      "        #siempre ser\u00e1 la cara del frente\n",
      "        ##las posiciones tanto de las aristas como los vertices simplemente permutan, pero sus orientaciones pueden, ademas de permutar, \n",
      "        #deben alterarse para que est\u00e9n correctas\n",
      "        \n",
      "        aux=self.vertices[v1-1]#rotacion normal de posici\u00f3n de vertices, emplea los primeros 4 d\u00edgitos de la secuencia de entrada\n",
      "        self.vertices[v1-1]=self.vertices[v2-1]\n",
      "        self.vertices[v2-1]=self.vertices[v3-1]\n",
      "        self.vertices[v3-1]=self.vertices[v4-1]\n",
      "        self.vertices[v4-1]=aux#se usa un auxiliar para que guarde un dato para que asi este no se pierda al reasignar los valores\n",
      "        \n",
      "        \n",
      "        #Aqui se rotan las orientaciones, primero se permutan al igual que las posiciones pero puede que se tenga que hacer un ajuste.\n",
      "        # De si es necesario el ajuste y de cuanto tiene que hacerse se especifica en los 5-8 d\u00edgitos de la secuencia de entrada  \n",
      "        aux=self.verticesOr[v1-1]\n",
      "        self.verticesOr[v1-1]=(self.verticesOr[v2-1] + vr1)%3\n",
      "        self.verticesOr[v2-1]=(self.verticesOr[v3-1] + vr2)%3\n",
      "        self.verticesOr[v3-1]=(self.verticesOr[v4-1] + vr3)%3\n",
      "        self.verticesOr[v4-1]=(aux + vr4)%3\n",
      "        \n",
      "        #lo mismo para las aristas, pero aqui se usan los d\u00edgitos del 9 al 12\n",
      "        aux=self.aristas[a1-1]\n",
      "        self.aristas[a1-1]=self.aristas[a2-1]\n",
      "        self.aristas[a2-1]=self.aristas[a3-1]\n",
      "        self.aristas[a3-1]=self.aristas[a4-1]\n",
      "        self.aristas[a4-1]=aux\n",
      "        \n",
      "        #lo mismo para las orientaciones de las aristas, se usan para las rotaciones del 9 al 12, y para los ajustes del 13 al 16\n",
      "        aux=self.aristasOr[a1-1]\n",
      "        self.aristasOr[a1-1]=(self.aristasOr[a2-1] + ar1)%2\n",
      "        self.aristasOr[a2-1]=(self.aristasOr[a3-1] + ar2)%2\n",
      "        self.aristasOr[a3-1]=(self.aristasOr[a4-1] + ar3)%2\n",
      "        self.aristasOr[a4-1]=(aux + ar4)%2\n",
      "        \n",
      "    def D(self):#cada rotacion con sus respectivos valores para hacer las rotaciones y ajustes, debemos recordar que se habla de las \n",
      "        #posiciones en el cubo estpatico y no de las piezas como tal, en particular esta es la rotaci\u00f3n en sentido de las\n",
      "        #manecillas del reloj de la cara inferior (Down) Verde/ Green (g)\n",
      "        #self.rotacion(5,8,7,6,0,0,0,0,9,12,11,10,0,0,0,0)\n",
      "        self.rotacion(6,7,8,5,0,0,0,0,10,11,12,9,0,0,0,0)\n",
      "\n",
      "    def U(self):#cara superior (Up) Azul/Blue (b)\n",
      "        #self.rotacion(1,2,3,4,0,0,0,0,1,2,3,4,0,0,0,0)\n",
      "        self.rotacion(4,3,2,1,0,0,0,0,4,3,2,1,0,0,0,0)\n",
      "        \n",
      "    def R(self):#cara derecha (Right) Amarilla/Yellow (y)\n",
      "        #self.rotacion(2,6,7,3,2,1,2,1,2,6,10,7,1,1,1,1)\n",
      "         self.rotacion(3,7,6,2,1,2,1,2,7,10,6,2,1,1,1,1)\n",
      "\n",
      "    def L(self):#cara izquierda (Left) Blanca/ White (w)\n",
      "        #self.rotacion(1,4,8,5,1,2,1,2,4,8,12,5,1,1,1,1)\n",
      "         self.rotacion(5,8,4,1,2,1,2,1,5,12,8,4,1,1,1,1)\n",
      "        \n",
      "    def F(self):#cara frontal (Front) Rojo/ Red (r)\n",
      "        #self.rotacion(3,7,8,4,2,1,2,1,3,7,11,8,0,0,0,0)\n",
      "         self.rotacion(4,8,7,3,1,2,1,2,8,11,7,3,0,0,0,0)\n",
      "        \n",
      "    def B(self):#cara trasera (Back) Negro/ Black (k)\n",
      "        #self.rotacion(1,5,6,2,2,1,2,1,1,5,9,6,0,0,0,0)\n",
      "         self.rotacion(2,6,5,1,1,2,1,2,6,9,5,1,0,0,0,0)\n",
      "            \n",
      "    def graficarEstado(self):#grafica el estado actual dado por los arreglos de permutaci\u00f3n y orientaci\u00f3n\n",
      "        matVertices=generaMatrizVertices()#Genera la matriz de informaci\u00f3n de vertices para las colores dado el estado (no hace falta hacerla\n",
      "        #cada vez que graficamos pero se hace para asegurar que exista siempre)\n",
      "        matAristas=generaMatrizAristas()#la matriz para la info de las aristas\n",
      "        a0=self.vertices#les cambia de nombres para llamarlos despu\u00e9s con las funciones que generan las cadenas de colores\n",
      "        b0=self.verticesOr\n",
      "        c0 = self.aristas\n",
      "        d0 = self.aristasOr\n",
      "        cadVertices=generaCadenaColoresVertices(a0,b0,matVertices)#crea cadena de colores para vertices dado las posiciones y orientaciones\n",
      "        #de los vertices\n",
      "        cadAristas=generaCadenaColoresAristas(c0,d0,matAristas)#igual para aristas\n",
      "        graficar(cadAristas,cadVertices)#grafica dadas las cadenas de vertices"
     ],
     "language": "python",
     "metadata": {},
     "outputs": [],
     "prompt_number": 23
    },
    {
     "cell_type": "code",
     "collapsed": false,
     "input": [
      "#A partir de aqui son experimentos que hice para checar que todo estuviera bien"
     ],
     "language": "python",
     "metadata": {},
     "outputs": [],
     "prompt_number": 24
    },
    {
     "cell_type": "code",
     "collapsed": false,
     "input": [
      "rubik=cubo()\n",
      "secuenciaAleatoria(10)\n",
      "print rubik.estaResuelto()\n",
      "print rubik.estado()\n",
      "rubik.graficarEstado()#imprime un cubo en estado resuelto"
     ],
     "language": "python",
     "metadata": {},
     "outputs": [
      {
       "output_type": "stream",
       "stream": "stdout",
       "text": [
        "UBFDDFFDUB\n",
        "True\n",
        "[1 2 3 4 5 6 7 8]\n",
        "[0 0 0 0 0 0 0 0]\n",
        "[ 1  2  3  4  5  6  7  8  9 10 11 12]\n",
        "[0 0 0 0 0 0 0 0 0 0 0 0]\n",
        "None\n"
       ]
      },
      {
       "metadata": {},
       "output_type": "display_data",
       "png": "[encoded data removed]",
       "text": [
        "<matplotlib.figure.Figure at 0x7f3a7defd2d0>"
       ]
      }
     ],
     "prompt_number": 25
    },
    {
     "cell_type": "code",
     "collapsed": false,
     "input": [
      "#rubik.aplicarSecuencia('RRRDRDDDRRRDR UUU RRRDDDRDRRRDDDR')#la secuencia de rotaci\u00f3n de esquinas\n",
      "rubik.revolverEsquinas()\n",
      "print rubik.CuboValido()\n",
      "rubik.estado()#imprime sus arreglos de estado\n",
      "#rubik.graficarEstado()#lo grafica\n",
      "#rubik.revolver()\n",
      "print rubik.estaResuelto()\n",
      "print rubik.traductor()\n",
      "#rubik.resolverRotando()\n",
      "#h=reversaSecuencia('')#calcula soluci\u00f3n por el m\u00e9todo de inversa\n",
      "#print h#muestra la secuencia de movimientos\n",
      "rubik.aplicarSecuencia(h)#la ejecuta\n",
      "rubik.graficarEstado()#el estado debe volver al estado anterior a los movomientos"
     ],
     "language": "python",
     "metadata": {},
     "outputs": [
      {
       "output_type": "stream",
       "stream": "stdout",
       "text": [
        "True\n",
        "[0 1 2 3 4 5 7 6]\n",
        "[0 0 0 2 1 1 2 0]\n",
        "[ 1  2  3  4  5  6  7  8  9 10 11 12]\n",
        "[0 0 0 0 0 0 0 0 0 0 0 0]\n",
        "False\n"
       ]
      },
      {
       "ename": "KeyError",
       "evalue": "0",
       "output_type": "pyerr",
       "traceback": [
        "\u001b[1;31m---------------------------------------------------------------------------\u001b[0m\n\u001b[1;31mKeyError\u001b[0m                                  Traceback (most recent call last)",
        "\u001b[1;32m<ipython-input-26-7112b40b9e7f>\u001b[0m in \u001b[0;36m<module>\u001b[1;34m()\u001b[0m\n\u001b[0;32m      6\u001b[0m \u001b[1;31m#rubik.revolver()\u001b[0m\u001b[1;33m\u001b[0m\u001b[1;33m\u001b[0m\u001b[0m\n\u001b[0;32m      7\u001b[0m \u001b[1;32mprint\u001b[0m \u001b[0mrubik\u001b[0m\u001b[1;33m.\u001b[0m\u001b[0mestaResuelto\u001b[0m\u001b[1;33m(\u001b[0m\u001b[1;33m)\u001b[0m\u001b[1;33m\u001b[0m\u001b[0m\n\u001b[1;32m----> 8\u001b[1;33m \u001b[1;32mprint\u001b[0m \u001b[0mrubik\u001b[0m\u001b[1;33m.\u001b[0m\u001b[0mtraductor\u001b[0m\u001b[1;33m(\u001b[0m\u001b[1;33m)\u001b[0m\u001b[1;33m\u001b[0m\u001b[0m\n\u001b[0m\u001b[0;32m      9\u001b[0m \u001b[1;31m#rubik.resolverRotando()\u001b[0m\u001b[1;33m\u001b[0m\u001b[1;33m\u001b[0m\u001b[0m\n\u001b[0;32m     10\u001b[0m \u001b[1;31m#h=reversaSecuencia('')#calcula soluci\u00f3n por el m\u00e9todo de inversa\u001b[0m\u001b[1;33m\u001b[0m\u001b[1;33m\u001b[0m\u001b[0m\n",
        "\u001b[1;32m<ipython-input-23-4a135b877ed1>\u001b[0m in \u001b[0;36mtraductor\u001b[1;34m(self)\u001b[0m\n\u001b[0;32m     99\u001b[0m \u001b[1;33m\u001b[0m\u001b[0m\n\u001b[0;32m    100\u001b[0m     \u001b[1;32mdef\u001b[0m \u001b[0mtraductor\u001b[0m\u001b[1;33m(\u001b[0m\u001b[0mself\u001b[0m\u001b[1;33m)\u001b[0m\u001b[1;33m:\u001b[0m\u001b[1;33m\u001b[0m\u001b[0m\n\u001b[1;32m--> 101\u001b[1;33m         \u001b[1;32mreturn\u001b[0m \u001b[0mtraductor1\u001b[0m\u001b[1;33m(\u001b[0m\u001b[0mself\u001b[0m\u001b[1;33m.\u001b[0m\u001b[0maristas\u001b[0m\u001b[1;33m,\u001b[0m\u001b[0mself\u001b[0m\u001b[1;33m.\u001b[0m\u001b[0maristasOr\u001b[0m\u001b[1;33m,\u001b[0m\u001b[0mself\u001b[0m\u001b[1;33m.\u001b[0m\u001b[0mvertices\u001b[0m\u001b[1;33m,\u001b[0m\u001b[0mself\u001b[0m\u001b[1;33m.\u001b[0m\u001b[0mverticesOr\u001b[0m\u001b[1;33m)\u001b[0m\u001b[1;33m\u001b[0m\u001b[0m\n\u001b[0m\u001b[0;32m    102\u001b[0m \u001b[1;33m\u001b[0m\u001b[0m\n\u001b[0;32m    103\u001b[0m     \u001b[1;32mdef\u001b[0m \u001b[0mresolverPorAlgoritmo\u001b[0m\u001b[1;33m(\u001b[0m\u001b[0mself\u001b[0m\u001b[1;33m)\u001b[0m\u001b[1;33m:\u001b[0m\u001b[1;33m\u001b[0m\u001b[0m\n",
        "\u001b[1;32m<ipython-input-21-b61b1210267e>\u001b[0m in \u001b[0;36mtraductor1\u001b[1;34m(a1, a2, v1, v2)\u001b[0m\n\u001b[0;32m     10\u001b[0m             \u001b[0mi\u001b[0m\u001b[1;33m+=\u001b[0m\u001b[0mbiblioteca1\u001b[0m\u001b[1;33m[\u001b[0m\u001b[0ma1\u001b[0m\u001b[1;33m[\u001b[0m\u001b[0mj\u001b[0m\u001b[1;33m]\u001b[0m\u001b[1;33m*\u001b[0m\u001b[1;36m10\u001b[0m\u001b[1;33m+\u001b[0m\u001b[0ma2\u001b[0m\u001b[1;33m[\u001b[0m\u001b[0mj\u001b[0m\u001b[1;33m]\u001b[0m\u001b[1;33m]\u001b[0m\u001b[1;33m\u001b[0m\u001b[0m\n\u001b[0;32m     11\u001b[0m     \u001b[1;32mfor\u001b[0m \u001b[0mj\u001b[0m \u001b[1;32min\u001b[0m \u001b[1;33m[\u001b[0m\u001b[1;36m2\u001b[0m\u001b[1;33m,\u001b[0m\u001b[1;36m1\u001b[0m\u001b[1;33m,\u001b[0m\u001b[1;36m0\u001b[0m\u001b[1;33m,\u001b[0m\u001b[1;36m3\u001b[0m\u001b[1;33m,\u001b[0m\u001b[1;36m6\u001b[0m\u001b[1;33m,\u001b[0m\u001b[1;36m7\u001b[0m\u001b[1;33m,\u001b[0m\u001b[1;36m4\u001b[0m\u001b[1;33m,\u001b[0m\u001b[1;36m5\u001b[0m\u001b[1;33m]\u001b[0m\u001b[1;33m:\u001b[0m\u001b[1;33m\u001b[0m\u001b[0m\n\u001b[1;32m---> 12\u001b[1;33m         \u001b[0mi\u001b[0m\u001b[1;33m+=\u001b[0m\u001b[0mbiblioteca2\u001b[0m\u001b[1;33m[\u001b[0m\u001b[1;33m(\u001b[0m\u001b[0mv1\u001b[0m\u001b[1;33m[\u001b[0m\u001b[0mj\u001b[0m\u001b[1;33m]\u001b[0m\u001b[1;33m*\u001b[0m\u001b[1;36m10\u001b[0m\u001b[1;33m+\u001b[0m\u001b[0mv2\u001b[0m\u001b[1;33m[\u001b[0m\u001b[0mj\u001b[0m\u001b[1;33m]\u001b[0m\u001b[1;33m)\u001b[0m\u001b[1;33m]\u001b[0m\u001b[1;33m\u001b[0m\u001b[0m\n\u001b[0m\u001b[0;32m     13\u001b[0m     \u001b[1;32mreturn\u001b[0m \u001b[0mi\u001b[0m\u001b[1;33m\u001b[0m\u001b[0m\n\u001b[0;32m     14\u001b[0m \u001b[1;32mdef\u001b[0m \u001b[0mtraductor2\u001b[0m\u001b[1;33m(\u001b[0m\u001b[0ms\u001b[0m\u001b[1;33m)\u001b[0m\u001b[1;33m:\u001b[0m\u001b[1;33m\u001b[0m\u001b[0m\n",
        "\u001b[1;31mKeyError\u001b[0m: 0"
       ]
      }
     ],
     "prompt_number": 26
    },
    {
     "cell_type": "code",
     "collapsed": false,
     "input": [
      "rubik.resolverPorAlgoritmo()"
     ],
     "language": "python",
     "metadata": {},
     "outputs": [
      {
       "ename": "KeyError",
       "evalue": "0",
       "output_type": "pyerr",
       "traceback": [
        "\u001b[1;31m---------------------------------------------------------------------------\u001b[0m\n\u001b[1;31mKeyError\u001b[0m                                  Traceback (most recent call last)",
        "\u001b[1;32m<ipython-input-27-4c8ba9bb040a>\u001b[0m in \u001b[0;36m<module>\u001b[1;34m()\u001b[0m\n\u001b[1;32m----> 1\u001b[1;33m \u001b[0mrubik\u001b[0m\u001b[1;33m.\u001b[0m\u001b[0mresolverPorAlgoritmo\u001b[0m\u001b[1;33m(\u001b[0m\u001b[1;33m)\u001b[0m\u001b[1;33m\u001b[0m\u001b[0m\n\u001b[0m",
        "\u001b[1;32m<ipython-input-23-4a135b877ed1>\u001b[0m in \u001b[0;36mresolverPorAlgoritmo\u001b[1;34m(self)\u001b[0m\n\u001b[0;32m    102\u001b[0m \u001b[1;33m\u001b[0m\u001b[0m\n\u001b[0;32m    103\u001b[0m     \u001b[1;32mdef\u001b[0m \u001b[0mresolverPorAlgoritmo\u001b[0m\u001b[1;33m(\u001b[0m\u001b[0mself\u001b[0m\u001b[1;33m)\u001b[0m\u001b[1;33m:\u001b[0m\u001b[1;33m\u001b[0m\u001b[0m\n\u001b[1;32m--> 104\u001b[1;33m         \u001b[0malgoritmo\u001b[0m\u001b[1;33m(\u001b[0m\u001b[0mself\u001b[0m\u001b[1;33m.\u001b[0m\u001b[0mtraductor\u001b[0m\u001b[1;33m(\u001b[0m\u001b[1;33m)\u001b[0m\u001b[1;33m)\u001b[0m\u001b[1;33m\u001b[0m\u001b[0m\n\u001b[0m\u001b[0;32m    105\u001b[0m \u001b[1;33m\u001b[0m\u001b[0m\n\u001b[0;32m    106\u001b[0m     \u001b[1;32mdef\u001b[0m \u001b[0mrotacion\u001b[0m\u001b[1;33m(\u001b[0m\u001b[0mself\u001b[0m\u001b[1;33m,\u001b[0m\u001b[0mv1\u001b[0m\u001b[1;33m,\u001b[0m\u001b[0mv2\u001b[0m\u001b[1;33m,\u001b[0m\u001b[0mv3\u001b[0m\u001b[1;33m,\u001b[0m\u001b[0mv4\u001b[0m\u001b[1;33m,\u001b[0m\u001b[0mvr1\u001b[0m\u001b[1;33m,\u001b[0m\u001b[0mvr2\u001b[0m\u001b[1;33m,\u001b[0m\u001b[0mvr3\u001b[0m\u001b[1;33m,\u001b[0m\u001b[0mvr4\u001b[0m\u001b[1;33m,\u001b[0m\u001b[0ma1\u001b[0m\u001b[1;33m,\u001b[0m\u001b[0ma2\u001b[0m\u001b[1;33m,\u001b[0m\u001b[0ma3\u001b[0m\u001b[1;33m,\u001b[0m\u001b[0ma4\u001b[0m\u001b[1;33m,\u001b[0m\u001b[0mar1\u001b[0m\u001b[1;33m,\u001b[0m\u001b[0mar2\u001b[0m\u001b[1;33m,\u001b[0m\u001b[0mar3\u001b[0m\u001b[1;33m,\u001b[0m\u001b[0mar4\u001b[0m\u001b[1;33m)\u001b[0m\u001b[1;33m:\u001b[0m\u001b[1;31m#esta secuencia de entrada determina que tipo de rotaci\u00f3n es\u001b[0m\u001b[1;33m\u001b[0m\u001b[0m\n",
        "\u001b[1;32m<ipython-input-23-4a135b877ed1>\u001b[0m in \u001b[0;36mtraductor\u001b[1;34m(self)\u001b[0m\n\u001b[0;32m     99\u001b[0m \u001b[1;33m\u001b[0m\u001b[0m\n\u001b[0;32m    100\u001b[0m     \u001b[1;32mdef\u001b[0m \u001b[0mtraductor\u001b[0m\u001b[1;33m(\u001b[0m\u001b[0mself\u001b[0m\u001b[1;33m)\u001b[0m\u001b[1;33m:\u001b[0m\u001b[1;33m\u001b[0m\u001b[0m\n\u001b[1;32m--> 101\u001b[1;33m         \u001b[1;32mreturn\u001b[0m \u001b[0mtraductor1\u001b[0m\u001b[1;33m(\u001b[0m\u001b[0mself\u001b[0m\u001b[1;33m.\u001b[0m\u001b[0maristas\u001b[0m\u001b[1;33m,\u001b[0m\u001b[0mself\u001b[0m\u001b[1;33m.\u001b[0m\u001b[0maristasOr\u001b[0m\u001b[1;33m,\u001b[0m\u001b[0mself\u001b[0m\u001b[1;33m.\u001b[0m\u001b[0mvertices\u001b[0m\u001b[1;33m,\u001b[0m\u001b[0mself\u001b[0m\u001b[1;33m.\u001b[0m\u001b[0mverticesOr\u001b[0m\u001b[1;33m)\u001b[0m\u001b[1;33m\u001b[0m\u001b[0m\n\u001b[0m\u001b[0;32m    102\u001b[0m \u001b[1;33m\u001b[0m\u001b[0m\n\u001b[0;32m    103\u001b[0m     \u001b[1;32mdef\u001b[0m \u001b[0mresolverPorAlgoritmo\u001b[0m\u001b[1;33m(\u001b[0m\u001b[0mself\u001b[0m\u001b[1;33m)\u001b[0m\u001b[1;33m:\u001b[0m\u001b[1;33m\u001b[0m\u001b[0m\n",
        "\u001b[1;32m<ipython-input-21-b61b1210267e>\u001b[0m in \u001b[0;36mtraductor1\u001b[1;34m(a1, a2, v1, v2)\u001b[0m\n\u001b[0;32m     10\u001b[0m             \u001b[0mi\u001b[0m\u001b[1;33m+=\u001b[0m\u001b[0mbiblioteca1\u001b[0m\u001b[1;33m[\u001b[0m\u001b[0ma1\u001b[0m\u001b[1;33m[\u001b[0m\u001b[0mj\u001b[0m\u001b[1;33m]\u001b[0m\u001b[1;33m*\u001b[0m\u001b[1;36m10\u001b[0m\u001b[1;33m+\u001b[0m\u001b[0ma2\u001b[0m\u001b[1;33m[\u001b[0m\u001b[0mj\u001b[0m\u001b[1;33m]\u001b[0m\u001b[1;33m]\u001b[0m\u001b[1;33m\u001b[0m\u001b[0m\n\u001b[0;32m     11\u001b[0m     \u001b[1;32mfor\u001b[0m \u001b[0mj\u001b[0m \u001b[1;32min\u001b[0m \u001b[1;33m[\u001b[0m\u001b[1;36m2\u001b[0m\u001b[1;33m,\u001b[0m\u001b[1;36m1\u001b[0m\u001b[1;33m,\u001b[0m\u001b[1;36m0\u001b[0m\u001b[1;33m,\u001b[0m\u001b[1;36m3\u001b[0m\u001b[1;33m,\u001b[0m\u001b[1;36m6\u001b[0m\u001b[1;33m,\u001b[0m\u001b[1;36m7\u001b[0m\u001b[1;33m,\u001b[0m\u001b[1;36m4\u001b[0m\u001b[1;33m,\u001b[0m\u001b[1;36m5\u001b[0m\u001b[1;33m]\u001b[0m\u001b[1;33m:\u001b[0m\u001b[1;33m\u001b[0m\u001b[0m\n\u001b[1;32m---> 12\u001b[1;33m         \u001b[0mi\u001b[0m\u001b[1;33m+=\u001b[0m\u001b[0mbiblioteca2\u001b[0m\u001b[1;33m[\u001b[0m\u001b[1;33m(\u001b[0m\u001b[0mv1\u001b[0m\u001b[1;33m[\u001b[0m\u001b[0mj\u001b[0m\u001b[1;33m]\u001b[0m\u001b[1;33m*\u001b[0m\u001b[1;36m10\u001b[0m\u001b[1;33m+\u001b[0m\u001b[0mv2\u001b[0m\u001b[1;33m[\u001b[0m\u001b[0mj\u001b[0m\u001b[1;33m]\u001b[0m\u001b[1;33m)\u001b[0m\u001b[1;33m]\u001b[0m\u001b[1;33m\u001b[0m\u001b[0m\n\u001b[0m\u001b[0;32m     13\u001b[0m     \u001b[1;32mreturn\u001b[0m \u001b[0mi\u001b[0m\u001b[1;33m\u001b[0m\u001b[0m\n\u001b[0;32m     14\u001b[0m \u001b[1;32mdef\u001b[0m \u001b[0mtraductor2\u001b[0m\u001b[1;33m(\u001b[0m\u001b[0ms\u001b[0m\u001b[1;33m)\u001b[0m\u001b[1;33m:\u001b[0m\u001b[1;33m\u001b[0m\u001b[0m\n",
        "\u001b[1;31mKeyError\u001b[0m: 0"
       ]
      }
     ],
     "prompt_number": 27
    },
    {
     "cell_type": "code",
     "collapsed": false,
     "input": [
      "#El programa tiene que poder llenar estos diccionarios con la informaci\u00f3n que de el usuario\n",
      "\n",
      "esquinas={'1': , '2': , '3': , '4': , '5': , '6': , '7': , '8': }\n",
      "esquinasOr={'1': , '2': , '3': , '4': , '5': , '6': , '7': , '8': }\n",
      "aristas={'1': , '2': , '3': , '4': , '5': , '6': , '7': , '8': , '9': , '10': , '11': , '12':}\n",
      "aristasOr={'1': , '2': , '3': , '4': , '5': , '6': , '7': , '8': , '9': , '10': , '11': , '12':}"
     ],
     "language": "python",
     "metadata": {},
     "outputs": [
      {
       "ename": "SyntaxError",
       "evalue": "invalid syntax (<ipython-input-37-12172e74b477>, line 3)",
       "output_type": "pyerr",
       "traceback": [
        "\u001b[1;36m  File \u001b[1;32m\"<ipython-input-37-12172e74b477>\"\u001b[1;36m, line \u001b[1;32m3\u001b[0m\n\u001b[1;33m    esquinas={'1': , '2': , '3': , '4': , '5': , '6': , '7': , '8': }\u001b[0m\n\u001b[1;37m                   ^\u001b[0m\n\u001b[1;31mSyntaxError\u001b[0m\u001b[1;31m:\u001b[0m invalid syntax\n"
       ]
      }
     ],
     "prompt_number": 37
    },
    {
     "cell_type": "code",
     "collapsed": false,
     "input": [
      "#el usuario va a tener que pasar un arreglo con los colores de cada estampa, empezando de arriba hacia abajo de izquierda \n",
      "# a derecha.Asumimos que el cubo est\u00e1 orientado como ya indicamos (frontal rojo con azul arriba) \n",
      "# Cada arreglo contiene los colores en este orden; arriba, frontal, abajo, izquierda, derecha, atr\u00e1s.\n",
      "# azul b, rojo r, verde g, blanco w, naranga o, amarillo y\n",
      "estado=np.zeros((6,9))\n",
      "mapa =[['ulb','ub','ubr','ul','u','ur','ufl','uf','url'],\n",
      "       ['flu','fu','fur','fl','f','fr','fdl','fd','frd'],\n",
      "       ['dlf','df','dfr','dl','d','dr','dbl','db','drb'],\n",
      "       ['lbu','lu','luf','lb','l','lf','ldb','ld','lfd'],\n",
      "       ['rfu','ru','rub','rf','r','rb','rdf','rd','rbd'],\n",
      "       ['bru','bu','bul','br','b','bl','brd','bd','bld']]\n",
      "\n",
      "#Le asiganimos al mapa los datos del arreglo que meta el usuario\n",
      "for i in range(6):\n",
      "    for j in range(9):\n",
      "        mapa[i][j]=estado[i][j]\n",
      "\n"
     ],
     "language": "python",
     "metadata": {},
     "outputs": []
    },
    {
     "cell_type": "code",
     "collapsed": false,
     "input": [
      "#Definimos funciones que nos ayuden a extraer la informaci\u00f3n que necesitamos.\n",
      "infoAristas=np.zeros((12,2)\n",
      "infoEsquinas=np.zeros((8,3)\n",
      "\n",
      "def sacarAristas():\n",
      "    #regresa las aristas del mapa, en el orden antes establecido. Primero arriba, luego la capa de la mitad y por \u00faltimo\n",
      "    #la capa de abajo. Empezamos con la arista de la parte de atr\u00e1s y seguimos en orden de manecillas. \n",
      "    #Para las aristas de las capas de arriba y abajo, la primera coordenada corresponde a la estampa de arriba y abajo respectivamente\n",
      "    #si vemos el cubo de frente. \n",
      "    #Para la capa de en medio, la primera coordenada ser\u00e1 la estampa que tenemos de frente, no las laterales.\n",
      "    infoAristas=[(mapa[1][2],mapa[6][2]),(mapa[1][6],mapa[5][2]),(mapa[1][8],mapa[2][2]),(mapa[1][4],mapa[4][2]),\n",
      "                (mapa[6][6],mapa[4][4]),(mapa[6][4],mapa[5][6]),(mapa[2][6],mapa[5][4]),(mapa[2][4],mapa[4][6]),\n",
      "                (mapa[3][8],mapa[6][8]),(mapa[3][6],mapa[5][8]),(mapa[3][2],mapa[2][8]),(mapa[3][4],mapa[4][8])]\n",
      "    return infoAristas\n",
      "\n",
      "def sacarEsquinas():\n",
      "    #Regresa un arreglo con las esquinas, empezando arriba enfrente izquierda, continuamos en contra de las manecillas.\n",
      "    #An\u00e1logamente para las esquinas inferiores.\n",
      "    #La primera coordenada corresponde a la estampa que veamos de frente, la segunda a la estampa lateral.\n",
      "    infoEsquinas=[(mapa[2][1],mapa[4][3],mapa[1][7]),(mapa[2][3],mapa[5][1],mapa[1][9]),(mapa[6][1],mapa[5][3],mapa[1][3]),(mapa[6][3],mapa[4][1],mapa[1][1]),\n",
      "                  (mapa[2][7],mapa[4][9],mapa[3][1]),(mapa[2][9],mapa[5][7],mapa[3][3]),(mapa[6][7],mapa[5][9],mapa[3][9]),(mapa[6][9],mapa[4][7],mapa[3][7])]\n",
      "    return infoEsquinas\n",
      "\n"
     ],
     "language": "python",
     "metadata": {},
     "outputs": []
    },
    {
     "cell_type": "code",
     "collapsed": false,
     "input": [
      "#LLenar el diccionario con la ubicaci\u00f3n de cada arista\n",
      "\n",
      "for i in (1,2,3,4,5,6,7,8,9,10,11,12):\n",
      "    if infoAristas[i]=(b,o) or (o,b):\n",
      "    aristas['i']=1\n",
      "    elif infoAristas[i]=(b,y) or (y,b):\n",
      "    aristas['i']=2\n",
      "    elif infoAristas[i]=(b,r) or (r,b):\n",
      "    aristas['i']=3\n",
      "    elif infoAristas[i]=(b,w) or (w,b):\n",
      "    aristas['i']=4\n",
      "    elif infoAristas[i]=(o,w) or (w,o):\n",
      "    aristas['i']=5\n",
      "    elif infoAristas[i]=(o,y) or (y,o):\n",
      "    aristas['i']=6\n",
      "    elif infoAristas[i]=(r,y) or (y,r):\n",
      "    aristas['i']=7\n",
      "    elif infoAristas[i]=(r,w) or (w,r):\n",
      "    aristas['i']=8\n",
      "    elif infoAristas[i]=(o,g) or (g,o):\n",
      "    aristas['i']=9\n",
      "    elif infoAristas[i]=(g,y) or (y,g):\n",
      "    aristas['i']=10\n",
      "    elif infoAristas[i]=(g,r) or (r,g):\n",
      "    aristas['i']=11\n",
      "    elif infoAristas[i]=(g,w) or (w,g):\n",
      "    aristas['i']=12\n",
      "    else:\n",
      "        return \"Entrada inv\u00e1lida\"\n",
      "    \n",
      "\n",
      "\n"
     ],
     "language": "python",
     "metadata": {},
     "outputs": []
    },
    {
     "cell_type": "code",
     "collapsed": false,
     "input": [
      "#Llenar el diccionario de la ubicaci\u00f3n de las esquinas\n",
      "for i in (1,2,3,4,5,6,7,8):\n",
      "    if infoEsquinas[i]=(r,w,b) or (r,b,w) or (b,w,r) or (b,r,w) or (w,r,b) or (w,b,r):\n",
      "        esquinas['i']=1\n",
      "    elif infoEsquinas[i]=(r,y,b) or (r,b,y) or (b,y,r) or (b,r,y) or (y,r,b) or (y,b,r):\n",
      "        esquinas['i']=2\n",
      "    elif infoEsquinas[i]=(o,y,b) or (o,b,y) or (b,y,o) or (b,o,y) or (y,o,b) or (y,b,o):\n",
      "        esquinas['i']=3\n",
      "    elif infoEsquinas[i]=(o,w,b) or (o,b,w) or (b,o,w) or (b,w,o) or (w,o,b) or (w,b,o):\n",
      "        esquinas['i']=4\n",
      "    elif infoEsquinas[i]=(r,w,g) or (r,g,w) or (g,w,r) or (g,r,w) or (w,r,g) or (w,g,r):\n",
      "        esquinas['i']=5\n",
      "    elif infoEsquinas[i]=(r,y,g) or (r,g,y) or (g,y,r) or (g,r,y) or (y,r,g) or (y,g,r):\n",
      "        esquinas['i']=6\n",
      "    elif infoEsquinas[i]=(o,y,g) or (o,g,y) or (g,y,o) or (g,o,y) or (y,o,g) or (y,g,o):\n",
      "        esquinas['i']=7\n",
      "    elif infoEsquinas[i]=(o,w,g) or (o,g,w) or (g,w,o) or (g,o,w) or (w,o,g) or (w,g,o):\n",
      "        esquinas['i']=8\n",
      "    else:\n",
      "        return \"Entrada inv\u00e1lida\""
     ],
     "language": "python",
     "metadata": {},
     "outputs": []
    },
    {
     "cell_type": "code",
     "collapsed": false,
     "input": [
      "if aristas['1']=1:\n",
      "    if infoAristas[1]=(b,g):\n",
      "    aristasOr['1']=0\n",
      "    else:\n",
      "    aristasOr['1']=1\n",
      "#Igual, buscar un for para hacerlo r\u00e1pido\n",
      "    "
     ],
     "language": "python",
     "metadata": {},
     "outputs": [
      {
       "ename": "SyntaxError",
       "evalue": "invalid syntax (<ipython-input-20-a0bb53fffd48>, line 1)",
       "output_type": "pyerr",
       "traceback": [
        "\u001b[1;36m  File \u001b[1;32m\"<ipython-input-20-a0bb53fffd48>\"\u001b[1;36m, line \u001b[1;32m1\u001b[0m\n\u001b[1;33m    if aristas['1']=1:\u001b[0m\n\u001b[1;37m                   ^\u001b[0m\n\u001b[1;31mSyntaxError\u001b[0m\u001b[1;31m:\u001b[0m invalid syntax\n"
       ]
      }
     ],
     "prompt_number": 20
    },
    {
     "cell_type": "code",
     "collapsed": false,
     "input": [],
     "language": "python",
     "metadata": {},
     "outputs": [],
     "prompt_number": 47
    },
    {
     "cell_type": "heading",
     "level": 2,
     "metadata": {},
     "source": [
      "El Algoritmo de Thistlethwaite"
     ]
    },
    {
     "cell_type": "markdown",
     "metadata": {},
     "source": [
      "**Esbozo general**\n",
      "<br>\n",
      "El siguiente m\u00e9todo ha tenido muchas repercusiones importantes para la investigaci\u00f3n y dise\u00f1o de algoritmos de soluci\u00f3n del cubo Rubik. Cabe destacar su importancia y belleza te\u00f3rica que, por su propia naturaleza, lo invalidan para el uso humano, no as\u00ed para las computadoras. Cuando el algoritmo ha sido mejorado e implementado con herramientas m\u00e1s sofisticadas de programaci\u00f3n se puede lograr una soluci\u00f3n en un promedio de $20$ movimientos.\n",
      "<br> <p> Otra forma de representar al cubo es a trav\u00e9s de las rotaciones. Es decir, todo estado del cubo se puede alcanzar a trav\u00e9s de una serie--no necesariamente \u00fanica--v\u00e1lida de movimientos del tipo $L, R, F, B, U, D$ (v\u00e9ase m\u00e1s arriba el apartado dedicado a la explicaci\u00f3n de la notaci\u00f3n de Singmaster). La idea detr\u00e1s del algoritmo es dividir el problema de resoluci\u00f3n del cubo en problemas mucho m\u00e1s sencillos de completar (de nuevo, por una m\u00e1quina). Para esto se va haciendo un \"escalamiento\" entre cada subgrupo, restringiendo cada vez m\u00e1s el n\u00famero de movimientos permitidos. Los subgrupos son:\n",
      "<div class=\"alert alert-info\">\n",
      "$G_{0} = RC_3 = <L, R, F, B, U, D>$, todo el grupo del cubo est\u00e1 aqu\u00ed.\n",
      "<br> $G_{1} = <L, R, F^2, B^2, U, D>$, subgrupo de $G_{0}$,\n",
      "<br> $G_{2} = <L^2, R^2, F^2, B^2, U, D> $, subgrupo de $ G_{1}$,\n",
      "<br> $G_{3} = <L^2, R^2, F^2, B^2, U, D> $, subgrupo de $ G_{2}$,\n",
      "<br> $G_{4} = \\{e\\}$, el cubo resuelto <br> <br> $G_{i}, 1 \\leq i \\leq 4$ corresponde a todos los estados del cubo que pueden ser alcanzados usando los movimientos en su conjunto generador. "
     ]
    },
    {
     "cell_type": "markdown",
     "metadata": {},
     "source": [
      "Intuitivamente lo que queremos hacer es ir maniobrando a lo largo de la cadena de subgrupos $G_{0} > G_{1} > G_{2} > G_{3} > G_{4}$. Supongamos un caso ideal en el que el rompecabezas fue bien encriptado (revuelto), y que solo podemos llegar a este estado usando todos los seis movimientos que generan a $G_{0}$. Para pasar a $G_{1}$, usamos los movimientos en el conjunto generador de $G_{0}$, a saber, $L, R, F, B, U, D$. Una vez que llegamos a $G_{1}$, usando \u00fanicamente movimientos en el conjunto generador de $G_{1}$ $(L, R, F^2, B^2, U, D)$, pasamos a $G_{2}$; y as\u00ed, sucesivamente hasta llegar a $G_{4}$: el cubo resuelto.\n",
      "<br> Ahora bien, para realizar la transici\u00f3n entre cada subgrupo, nos fijamos en las clases laterales. Thistlethwaite primeramente dise\u00f1\u00f3 unas tablas representando los grupos cocientes $G_{i+1}/G_{i}$ para $1 \\leq i \\leq 4$; y para cada elemento (cada clase lateral) en cada grupo cociente (o en cada tabla) hall\u00f3 la serie de movimientos que te llevar\u00edan dicho elemento al subgrupo m\u00e1s peque\u00f1o. <br> Lo anterior lo podr\u00edamos formalizar de la siguiente manera: \n",
      "<div class=\"alert alert-info\">\n",
      "Se generan las tablas de cada grupo cociente:\n",
      "<br> $G_{1}/G_{0} = \\mathop{\\bigcup}_{i = 1}^{r_{0}} g_{1,i} G_{1} $, con $g_{1,i} \\in G$, para cada $i$........................tabla 1 <br>\n",
      "<br> $G_{2}/G_{1} = \\mathop{\\bigcup}_{i = 1}^{r_{1}} g_{2,i} G_{2} $, con $g_{2,i} \\in G$, para cada $i$........................tabla 2 <br>\n",
      "<br> $G_{3}/G_{2} = \\mathop{\\bigcup}_{i = 1}^{r_{2}} g_{3,i} G_{3} $, con $g_{3,i} \\in G$, para cada $i$........................tabla 3  <br>\n",
      "<br> donde $r_{i} = |G_{i}/G_{i-1}|, 1 \\leq i \\leq 3 $, y\n",
      "<br> $g_{j,i} \\in G$\n",
      "<br> <br> Luego, sea $g_{0} \\in G_{0}$, un estado bien encriptado del rompecabezas. \n",
      "<ul>\n",
      "<li> Ubicamos a $g_{0}$ en la tabla del grupo cociente $G_{1}/G_{0}$, es decir, existe $g_{1,i}G_{1}$, con $i \\in \\{1,...,r_{0}\\}$, tal que $g_{0} \\in g_{1,i}G_{1}$. \n",
      "<li> Existe $g_1^{'} \\in G_1$, tal que $g_0 = g_{1,i}g_1^{'}$, y redefinimos $g_1 = g_{1,i}$\n",
      "<li> Se sigue que $g_1^{'} = g_1^{-1}g_0 \\in G_1$\n",
      "<li> Ubicamos a $g_1^{'}$ en la tabla del grupo cociente $G_{2}/G_{1}$, y se repite el proceso.\n",
      "<li> Poniendo todo esto junto, deber\u00edamos de obtener $e = g_3^{-1}g_2^{-1}g_1^{-1}g_0^{-1}$, con $e$ el cubo resuelto. Y despejando, $g_0 = g_1g_2g_3$"
     ]
    },
    {
     "cell_type": "code",
     "collapsed": false,
     "input": [
      "#type(s)"
     ],
     "language": "python",
     "metadata": {},
     "outputs": []
    },
    {
     "cell_type": "code",
     "collapsed": false,
     "input": [
      "ejemplo=cubo()\n",
      "ejemplo.ingresarDatos([1,4,6,5,2,8,3,7],[0,1,0,2,1,1,2,2],[ 2,8,  4,  7 , 3,  1,  5 ,11 ,12 , 6 ,10,  9],[1, 1, 1 ,0 ,1 ,0, 0,1 ,0 ,1, 0 ,0])\n",
      "#ejemplo.ingresarDatos([1,2,3,4,5,6,7,8],[0,0,0,0,0,0,0,0],[ 2,8,  4,  7 , 3,  1,  5 ,11 ,12 , 6 ,10,  9],[1, 1, 1 ,0 ,1 ,0, 0,1 ,0 ,1, 0 ,0])\n",
      "print ejemplo.estado()\n",
      "\n",
      "print ejemplo.traductor()\n",
      "ejemplo.aplicarSecuencia('FFLLLDDBFFDDDLUURRRFFDLBBULLUUURRURRUUFFDFFLLUUFFUUFFUULLFFUULLUU')\n",
      "ejemplo.graficarEstado()"
     ],
     "language": "python",
     "metadata": {},
     "outputs": [
      {
       "output_type": "stream",
       "stream": "stdout",
       "text": [
        "[1 4 6 5 2 8 3 7]\n",
        "[0 1 0 2 1 1 2 2]\n",
        "[ 2  8  4  7  3  1  5 11 12  6 10  9]\n",
        "[1 1 1 0 1 0 0 1 0 1 0 0]\n",
        "None\n",
        "LU FL RU RF DR BR DL DB BL DF BU UF DBR FUL UBL LBD FRU RFD BUR LDF \n"
       ]
      },
      {
       "metadata": {},
       "output_type": "display_data",
       "png": "[encoded data removed]",
       "text": [
        "<matplotlib.figure.Figure at 0x7f56560c6450>"
       ]
      }
     ],
     "prompt_number": 26
    },
    {
     "cell_type": "code",
     "collapsed": false,
     "input": [
      "\"\"\"Variable Index\n",
      "\n",
      "T - the main heuristic table.\n",
      "S - a solved cube state. Each individual piece is stored as a bit mask, represented as a character. A solved orientation vector is defined as the zero vector.\n",
      "I - the various twists, in the order that they are eliminated from the search space.\n",
      "G - the groups for twist permutations, stored as pairs to be swapped. Each byte in the compressed string encodes for one pair. Each twist needs six swaps: three for the edge cycle, and three for the corner cycle. The compressed string contains only printable ascii (char 32 to 126).\n",
      "M - a function that performs a move, given by G.\n",
      "N - converts a permutation of four objects to a number, for encoding purposes.\n",
      "H - calculates the heuristic value for the given cube state, used to lookup move depth from T.\n",
      "P - perform a search at a single depth of a single phase of the algorithm.\n",
      "s - the input cube's permutation state.\n",
      "o - the input cube's orientation vector.\"\"\""
     ],
     "language": "python",
     "metadata": {},
     "outputs": [
      {
       "metadata": {},
       "output_type": "pyout",
       "prompt_number": 92,
       "text": [
        "\"Variable Index\\n\\nT - the main heuristic table.\\nS - a solved cube state. Each individual piece is stored as a bit mask, represented as a character. A solved orientation vector is defined as the zero vector.\\nI - the various twists, in the order that they are eliminated from the search space.\\nG - the groups for twist permutations, stored as pairs to be swapped. Each byte in the compressed string encodes for one pair. Each twist needs six swaps: three for the edge cycle, and three for the corner cycle. The compressed string contains only printable ascii (char 32 to 126).\\nM - a function that performs a move, given by G.\\nN - converts a permutation of four objects to a number, for encoding purposes.\\nH - calculates the heuristic value for the given cube state, used to lookup move depth from T.\\nP - perform a search at a single depth of a single phase of the algorithm.\\ns - the input cube's permutation state.\\no - the input cube's orientation vector.\""
       ]
      }
     ],
     "prompt_number": 92
    },
    {
     "cell_type": "code",
     "collapsed": false,
     "input": [],
     "language": "python",
     "metadata": {},
     "outputs": [],
     "prompt_number": 20
    },
    {
     "cell_type": "code",
     "collapsed": false,
     "input": [
      "traductor2('F2L3D2B1F2D3L1U2R3F2D1L1B2U1L2U3R2U1R2U2F2D1F2L2U2F2U2F2U2L2F2U2L2U2')"
     ],
     "language": "python",
     "metadata": {},
     "outputs": [
      {
       "metadata": {},
       "output_type": "pyout",
       "prompt_number": 25,
       "text": [
        "'FFLLLDDBFFDDDLUURRRFFDLBBULLUUURRURRUUFFDFFLLUUFFUUFFUULLFFUULLUU'"
       ]
      }
     ],
     "prompt_number": 25
    },
    {
     "cell_type": "code",
     "collapsed": false,
     "input": [],
     "language": "python",
     "metadata": {},
     "outputs": [],
     "prompt_number": 43
    },
    {
     "cell_type": "code",
     "collapsed": false,
     "input": [
      "algoritmo2('LU FL RU RF DR BR DL DB BL DF BU UF DBR FUL UBL LBD FRU RFD BUR LDF ')"
     ],
     "language": "python",
     "metadata": {},
     "outputs": [],
     "prompt_number": 50
    },
    {
     "cell_type": "code",
     "collapsed": false,
     "input": [
      "def algoritmo2(entrada):\n",
      "    T=[]\n",
      "    S=[0]*20,'QTRXadbhEIFJUVZYeijf',0\n",
      "    I='FBRLUD'\n",
      "    \n",
      "\n",
      "    G=[(~i%8,i/8-4)for i in map(ord,'ouf|/[bPcU`Dkqbx-Y:(+=P4cyrh=I;-(:R6')]\n",
      "    R=range\n",
      "\n",
      "    def M(o,s,p):\n",
      "     z=~p/2%-3;k=1\n",
      "     for i,j in G[p::6]:i*=k;j*=k;o[i],o[j]=o[j]-z,o[i]+z;s[i],s[j]=s[j],s[i];k=-k\n",
      "\n",
      "    N=lambda p:sum([i<<i for i in R(4)for j in R(i)if p[j]<p[i]])\n",
      "\n",
      "    def H(i,t,s,n=0,d=()):\n",
      "     if i>4:n=N(s[2-i::2]+s[7+i::2])*84+N(s[i&1::2])*6+divmod(N(s[8:]),24)[i&1]\n",
      "     elif i>3:\n",
      "      for j in s:l='UZifVYje'.find(j);t[l]=i;d+=(l-4,)[l<4:];n-=~i<<i;i+=l<4\n",
      "      n+=N([t[j]^t[d[3]]for j in d])\n",
      "     elif i>1:\n",
      "      for j in s:n+=n+[j<'K',j in'QRab'][i&1]\n",
      "     for j in t[13*i:][:11]:n+=j%(2+i)-n*~i\n",
      "     return n\n",
      "\n",
      "    def P(i,m,t,s,l=''):\n",
      "     resp=''\n",
      "     for j in~-i,i:\n",
      "      if T[j][H(j,t,s)]<m:return\n",
      "     if~m<0:resp=resp + l;return t,s\n",
      "     for p in R(6):\n",
      "      u=t[:];v=s[:]\n",
      "      for n in 1,2,3:\n",
      "       M(u,v,p);r=p<n%2*i or P(i,m+1,u,v,l+I[p]+`n`)\n",
      "       if r>1:return r\n",
      "\n",
      "    s=entrada.split()\n",
      "    o=[-(p[-1]in'UD')or p[0]in'RL'or p[1]in'UD'for p in s]\n",
      "    s=[chr(64+sum(1<<I.find(a)for a in x))for x in s]\n",
      "\n",
      "    for i in R(7):\n",
      "     m=0;C={};T+=C,;x=[S]\n",
      "     for j,k,d in x:\n",
      "      h=H(i,j,k)\n",
      "      for p in R(C.get(h,6)):\n",
      "       C[h]=d;u=j[:];v=list(k)\n",
      "       for n in i,0,i:M(u,v,p);x+=[(u[:],v[:],d-1)]*(p|1>n)\n",
      "     if~i&1:\n",
      "      while[]>d:d=P(i,m,o,s);m-=1\n",
      "      o,s=d\n",
      "    #print resp"
     ],
     "language": "python",
     "metadata": {},
     "outputs": [],
     "prompt_number": 49
    },
    {
     "cell_type": "code",
     "collapsed": false,
     "input": [],
     "language": "python",
     "metadata": {},
     "outputs": []
    }
   ],
   "metadata": {}
  }
 ]
}