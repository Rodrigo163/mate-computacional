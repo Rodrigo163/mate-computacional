{
 "metadata": {
  "name": "",
  "signature": "sha256:34369e59260503944cf15f2ae6d3c77d0b44db211af11a3e94753f27360b9c81"
 },
 "nbformat": 3,
 "nbformat_minor": 0,
 "worksheets": [
  {
   "cells": [
    {
     "cell_type": "code",
     "collapsed": false,
     "input": [
      "def perm_parity(lst):\n",
      "    '''\\\n",
      "    Given a permutation of the digits 0..N in order as a list, \n",
      "    returns its parity (or sign): +1 for even parity; -1 for odd.\n",
      "    '''\n",
      "    parity = 1\n",
      "    for i in range(0,len(lst)-1):\n",
      "        if lst[i] != i+1:\n",
      "            parity *= -1\n",
      "            mn = min(range(i,len(lst)), key=lst.__getitem__)\n",
      "            lst[i],lst[mn] = lst[mn],lst[i]\n",
      "    return parity "
     ],
     "language": "python",
     "metadata": {},
     "outputs": [],
     "prompt_number": 88
    },
    {
     "cell_type": "code",
     "collapsed": false,
     "input": [
      "perm_parity([1,7,3,4,5,2,10,8,9,6,11,12])"
     ],
     "language": "python",
     "metadata": {},
     "outputs": [
      {
       "metadata": {},
       "output_type": "pyout",
       "prompt_number": 91,
       "text": [
        "-1"
       ]
      }
     ],
     "prompt_number": 91
    },
    {
     "cell_type": "code",
     "collapsed": false,
     "input": [
      "import itertools \n",
      "print list(itertools.permutations([1,2,3,4], 4))"
     ],
     "language": "python",
     "metadata": {},
     "outputs": [
      {
       "output_type": "stream",
       "stream": "stdout",
       "text": [
        "[(1, 2, 3, 4), (1, 2, 4, 3), (1, 3, 2, 4), (1, 3, 4, 2), (1, 4, 2, 3), (1, 4, 3, 2), (2, 1, 3, 4), (2, 1, 4, 3), (2, 3, 1, 4), (2, 3, 4, 1), (2, 4, 1, 3), (2, 4, 3, 1), (3, 1, 2, 4), (3, 1, 4, 2), (3, 2, 1, 4), (3, 2, 4, 1), (3, 4, 1, 2), (3, 4, 2, 1), (4, 1, 2, 3), (4, 1, 3, 2), (4, 2, 1, 3), (4, 2, 3, 1), (4, 3, 1, 2), (4, 3, 2, 1)]\n"
       ]
      }
     ],
     "prompt_number": 1
    },
    {
     "cell_type": "code",
     "collapsed": false,
     "input": [],
     "language": "python",
     "metadata": {},
     "outputs": []
    }
   ],
   "metadata": {}
  }
 ]
}