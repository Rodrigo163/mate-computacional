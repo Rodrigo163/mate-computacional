{
 "metadata": {
  "name": "",
  "signature": "sha256:666ade488046f583b8dd589aafcc495b4b87cc1d9102a86183c49d99c81deb64"
 },
 "nbformat": 3,
 "nbformat_minor": 0,
 "worksheets": [
  {
   "cells": [
    {
     "cell_type": "code",
     "collapsed": false,
     "input": [
      "import numpy as np"
     ],
     "language": "python",
     "metadata": {},
     "outputs": [],
     "prompt_number": 30
    },
    {
     "cell_type": "code",
     "collapsed": false,
     "input": [
      "#El programa tiene que poder llenar estos diccionarios con la informaci\u00f3n que de el usuario\n",
      "\n",
      "esquinas={'1': , '2': , '3': , '4': , '5': , '6': , '7': , '8': }\n",
      "esquinasOr={'1': , '2': , '3': , '4': , '5': , '6': , '7': , '8': }\n",
      "aristas={'1': , '2': , '3': , '4': , '5': , '6': , '7': , '8': , '9': , '10': , '11': , '12':}\n",
      "aristasOr={'1': , '2': , '3': , '4': , '5': , '6': , '7': , '8': , '9': , '10': , '11': , '12':}"
     ],
     "language": "python",
     "metadata": {},
     "outputs": []
    },
    {
     "cell_type": "code",
     "collapsed": false,
     "input": [
      "#el usuario va a tener que pasar un arreglo con los colores de cada estampa, empezando de arriba hacia abajo de izquierda \n",
      "# a derecha.Asumimos que el cubo est\u00e1 orientado como ya indicamos (frontal rojo con azul arriba) \n",
      "# Cada arreglo contiene los colores en este orden; arriba, frontal, abajo, izquierda, derecha, atr\u00e1s.\n",
      "# azul b, rojo r, verde g, blanco w, naranga o, amarillo y\n",
      "estado=np.zeros((6,9))\n",
      "mapa =[['ulb','ub','ubr','ul','u','ur','ufl','uf','url'],\n",
      "       ['flu','fu','fur','fl','f','fr','fdl','fd','frd'],\n",
      "       ['dlf','df','dfr','dl','d','dr','dbl','db','drb'],\n",
      "       ['lbu','lu','luf','lb','l','lf','ldb','ld','lfd'],\n",
      "       ['rfu','ru','rub','rf','r','rb','rdf','rd','rbd'],\n",
      "       ['bru','bu','bul','br','b','bl','brd','bd','bld']]\n",
      "\n",
      "#Le asiganimos al mapa los datos del arreglo que meta el usuario\n",
      "for i in range(6):\n",
      "    for j in range(9):\n",
      "        mapa[i][j]=estado[i][j]\n",
      "\n"
     ],
     "language": "python",
     "metadata": {},
     "outputs": [],
     "prompt_number": 28
    },
    {
     "cell_type": "code",
     "collapsed": false,
     "input": [
      "#Definimos funciones que nos ayuden a extraer la informaci\u00f3n que necesitamos.\n",
      "infoAristas=np.zeros((12,2)\n",
      "infoEsquinas=np.zeros((8,3)\n",
      "\n",
      "def sacarAristas():\n",
      "    #regresa las aristas del mapa, en el orden antes establecido. Primero arriba, luego la capa de la mitad y por \u00faltimo\n",
      "    #la capa de abajo. Empezamos con la arista de la parte de atr\u00e1s y seguimos en orden de manecillas. \n",
      "    #Para las aristas de las capas de arriba y abajo, la primera coordenada corresponde a la estampa de arriba y abajo respectivamente\n",
      "    #si vemos el cubo de frente. \n",
      "    #Para la capa de en medio, la primera coordenada ser\u00e1 la estampa que tenemos de frente, no las laterales.\n",
      "    infoAristas=[(mapa[1][2],mapa[6][2]),(mapa[1][6],mapa[5][2]),(mapa[1][8],mapa[2][2]),(mapa[1][4],mapa[4][2]),\n",
      "                (mapa[6][6],mapa[4][4]),(mapa[6][4],mapa[5][6]),(mapa[2][6],mapa[5][4]),(mapa[2][4],mapa[4][6]),\n",
      "                (mapa[3][8],mapa[6][8]),(mapa[3][6],mapa[5][8]),(mapa[3][2],mapa[2][8]),(mapa[3][4],mapa[4][8])]\n",
      "    return infoAristas\n",
      "\n",
      "def sacarEsquinas():\n",
      "    #Regresa un arreglo con las esquinas, empezando arriba enfrente izquierda, continuamos en contra de las manecillas.\n",
      "    #An\u00e1logamente para las esquinas inferiores.\n",
      "    #La primera coordenada corresponde a la estampa que veamos de frente, la segunda a la estampa lateral.\n",
      "    infoEsquinas=[(mapa[2][1],mapa[4][3],mapa[1][7]),(mapa[2][3],mapa[5][1],mapa[1][9]),(mapa[6][1],mapa[5][3],mapa[1][3]),(mapa[6][3],mapa[4][1],mapa[1][1]),\n",
      "                  (mapa[2][7],mapa[4][9],mapa[3][1]),(mapa[2][9],mapa[5][7],mapa[3][3]),(mapa[6][7],mapa[5][9],mapa[3][9]),(mapa[6][9],mapa[4][7],mapa[3][7])]\n",
      "    return infoEsquinas\n",
      "\n"
     ],
     "language": "python",
     "metadata": {},
     "outputs": [
      {
       "ename": "SyntaxError",
       "evalue": "invalid syntax (<ipython-input-33-317ddca83735>, line 3)",
       "output_type": "pyerr",
       "traceback": [
        "\u001b[1;36m  File \u001b[1;32m\"<ipython-input-33-317ddca83735>\"\u001b[1;36m, line \u001b[1;32m3\u001b[0m\n\u001b[1;33m    infoEsquinas=np.zeros((8,3)\u001b[0m\n\u001b[1;37m               ^\u001b[0m\n\u001b[1;31mSyntaxError\u001b[0m\u001b[1;31m:\u001b[0m invalid syntax\n"
       ]
      }
     ],
     "prompt_number": 33
    },
    {
     "cell_type": "code",
     "collapsed": false,
     "input": [
      "#LLenar el diccionario con la ubicaci\u00f3n de cada arista\n",
      "\n",
      "for i in (1,2,3,4,5,6,7,8,9,10,11,12):\n",
      "    if infoAristas[i]=(b,o) or (o,b):\n",
      "    aristas['i']=1\n",
      "    elif infoAristas[i]=(b,y) or (y,b):\n",
      "    aristas['i']=2\n",
      "    elif infoAristas[i]=(b,r) or (r,b):\n",
      "    aristas['i']=3\n",
      "    elif infoAristas[i]=(b,w) or (w,b):\n",
      "    aristas['i']=4\n",
      "    elif infoAristas[i]=(o,w) or (w,o):\n",
      "    aristas['i']=5\n",
      "    elif infoAristas[i]=(o,y) or (y,o):\n",
      "    aristas['i']=6\n",
      "    elif infoAristas[i]=(r,y) or (y,r):\n",
      "    aristas['i']=7\n",
      "    elif infoAristas[i]=(r,w) or (w,r):\n",
      "    aristas['i']=8\n",
      "    elif infoAristas[i]=(o,g) or (g,o):\n",
      "    aristas['i']=9\n",
      "    elif infoAristas[i]=(g,y) or (y,g):\n",
      "    aristas['i']=10\n",
      "    elif infoAristas[i]=(g,r) or (r,g):\n",
      "    aristas['i']=11\n",
      "    elif infoAristas[i]=(g,w) or (w,g):\n",
      "    aristas['i']=12\n",
      "    else:\n",
      "        return \"Entrada inv\u00e1lida\"\n",
      "    \n",
      "\n",
      "\n"
     ],
     "language": "python",
     "metadata": {},
     "outputs": []
    },
    {
     "cell_type": "code",
     "collapsed": false,
     "input": [
      "#Llenar el diccionario de la ubicaci\u00f3n de las esquinas\n",
      "for i in (1,2,3,4,5,6,7,8):\n",
      "    if infoEsquinas[i]=(r,w,b) or (r,b,w) or (b,w,r):\n",
      "#Son necesarias todas las combinaciones de esquinas?"
     ],
     "language": "python",
     "metadata": {},
     "outputs": []
    },
    {
     "cell_type": "code",
     "collapsed": false,
     "input": [
      "if aristas['1']=1:\n",
      "    if infoAristas[1]=(b,g):\n",
      "    aristasOr['1']=0\n",
      "    else:\n",
      "    aristasOr['1']=1\n",
      "#Igual, buscar un for para hacerlo r\u00e1pido\n",
      "    "
     ],
     "language": "python",
     "metadata": {},
     "outputs": []
    },
    {
     "cell_type": "code",
     "collapsed": false,
     "input": [
      "if "
     ],
     "language": "python",
     "metadata": {},
     "outputs": []
    }
   ],
   "metadata": {}
  }
 ]
}