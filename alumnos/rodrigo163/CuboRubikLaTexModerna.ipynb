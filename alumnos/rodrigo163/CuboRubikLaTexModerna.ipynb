{
 "metadata": {
  "name": "",
  "signature": "sha256:35da8a5c3eb926b668fada7d4f5d5ef575a1c9658d2c13fc5fcf318c27fa0988"
 },
 "nbformat": 3,
 "nbformat_minor": 0,
 "worksheets": [
  {
   "cells": [
    {
     "cell_type": "heading",
     "level": 2,
     "metadata": {},
     "source": [
      "Introducci\u00f3n y Objetivo general"
     ]
    },
    {
     "cell_type": "markdown",
     "metadata": {},
     "source": [
      "El cubo Rubik fue inventado por el arquitecto Ern\u00f6 Rubik en 1974 no como un medio de entretenci\u00f3n, sino como una herramienta que mejorase sus clases universitarias. Posteriormente habr\u00eda una infinidad de ellos en los estantes de jugueter\u00edas a nivel mundial. Pero luego, por la dificultad que muchos hallaban al intentar solucionarlo, recobrar\u00eda el inter\u00e9s acad\u00e9mico, en particular el de matem\u00e1ticos. Y durante ya un tiempo han habido varias implementaciones de algoritmos de soluci\u00f3n y modelamiento. M\u00e1s a\u00fan, por la relaci\u00f3n entre las matem\u00e1ticas y la computaci\u00f3n, muchos de estos algoritmos est\u00e1n dise\u00f1ados para computadoras y no para seres humanos. \n",
      "<br> Nuestro objetivo es explorar el cubo Rubik usando las matem\u00e1ticas proporcionadas por la Teor\u00eda de Grupos. Primero daremos una representaci\u00f3n del cubo (un modelo del cubo f\u00edsico), bas\u00e1ndonos en las permutaciones; y luego mostraremos un algoritmo para solucionar el cubo. El algoritmo de soluci\u00f3n fue dise\u00f1ado por el matem\u00e1tico Morwen Thistlethwaite. **FALTA COMPLETAR**"
     ]
    },
    {
     "cell_type": "heading",
     "level": 2,
     "metadata": {},
     "source": [
      "Modelo del cubo f\u00edsico"
     ]
    },
    {
     "cell_type": "markdown",
     "metadata": {},
     "source": [
      " Las $26$ piezas que conforman el cubo se dividen en tres tipos: los centros (que s\u00f3lo tienen un color asignado), las aristas (que tienen dos colores asignados), y los vertices (las esquinas, a quienes les corresponden tres colores). El espacio que una pieza ocupa, sin importar el tipo, se le llama cub\u00edculo. De esta forma, como las piezas centrales nunca cambian de cub\u00edculo, las usamos como punto de referencia para los cub\u00edculos que rodean cada una. Cuando uno realiza movimientos con el cubo, las piezas se mueven de cub\u00edculo en cub\u00edculo. Por lo anterior, podemos decir que el cubo est\u00e1 resuelto si las piezas est\u00e1n en su cub\u00edculo original, y si los colores de cada pieza est\u00e1n en su orientaci\u00f3n correcta (de nuevo respecto al centro). $$ $$ Nuestro modelo consiste en una $4$-tupla $(\\rho, v, \\sigma, w)$, donde $\\rho$  (respectivamente $\\sigma$), describe c\u00f3mo los v\u00e9rtices (respectivamente las aristas) est\u00e1n permutados, y $v$ (y $w$), describe c\u00f3mo los v\u00e9rtices (y las aristas) est\u00e1n orientadas. M\u00e1s a\u00fan, imaginemos que las piezas y los cub\u00edculos est\u00e1n enumerados. Cuando una pieza est\u00e1 en su posici\u00f3n natural, es porque su n\u00famero asociado es igual al de su cub\u00edculo. $$ $$ Cualquier configuraci\u00f3n del cubo arrojar\u00e1 dos permutaciones (ignorando las orientaciones de las piezas): $\\rho \\in S_{8}$, que corresponde a c\u00f3mo los v\u00e9rtices han sido permutados; y $\\sigma \\in S_{12}$, que representa c\u00f3mo las aristas fueron permutadas. **FALTA COMPLETAR EXPLICACI\u00d3N DE LAS PERMUTACIONES.***"
     ]
    },
    {
     "cell_type": "markdown",
     "metadata": {},
     "source": [
      "Para las orientaciones de cada pieza (la distribuci\u00f3n de los colores), a su vez, enumeramos cada una de las caras o colores del cubo asociados a las piezas movibles, a saber, aristas y v\u00e9rtices (v\u00e9ase la imagen). $0,1,2$ para los v\u00e9rtices (pues tienen tres colores), y $0,1$ para las aristas (pues tienen dos posibles colores). Por esta raz\u00f3n muy naturalmente trabajamos con $\\mathbb Z_{3}$ y $\\mathbb Z_{2}$, respectivamente. O m\u00e1s bien:\n",
      "<br> <br> $w = (\\ w_{1}, w_{2}, . . ., w_{12} )\\ \\in \\mathbb Z_{2}^{12}$, es decir, $w = \\{0, 1\\}^{12}$, para la configuraci\u00f3n de las $12$ aristas, donde $w_{i}$ corresponde al $i$-\u00e9sima arista  y el color que \u00e9ste contiene. \n",
      "<br> <br> $v = (\\ v_{1}, v_{2}, . . ., v_{8} )\\ \\in \\mathbb Z_{3}^{8}$, es decir, $v = \\{0, 1, 2\\}^{8}$, para la configuraci\u00f3n de los $8$ v\u00e9rtices, donde $v_{j}$ corresponde a la $j$-\u00e9simo v\u00e9rtice y el color que \u00e9ste contiene."
     ]
    },
    {
     "cell_type": "markdown",
     "metadata": {},
     "source": [
      "Todo lo anterior lo podr\u00edamos simplificar con la siguiente definici\u00f3n:"
     ]
    },
    {
     "cell_type": "markdown",
     "metadata": {},
     "source": [
      "**Definici\u00f3n: Vector de descripci\u00f3n de estado del cubo**\n",
      "<div class=\"alert alert-info\">\n",
      "Sea $X$ una configuraci\u00f3n del cubo. El vector de descripci\u00f3n del estado $X$ es $(\\rho, v, \\sigma, w ) \\in S_{8} \\times \\mathbb Z_{3}^{8} \\times S_{12} \\times \\mathbb Z_{2}^{12} $, donde:\n",
      "<br> <ul> <li> $\\rho \\in S_{8}$: codifica la permutaci\u00f3n de los v\u00e9rtices respecto a los centro inamovibles: $\\rho (i) = j$, si la arista $j$ est\u00e1 en el cub\u00edculo $i$  \n",
      "<li>  $v \\in \\mathbb Z_{3}^{8}$: el n\u00famero $v_{i}$, corresponde a la orientacion del v\u00e9rtice $j$ en el cub\u00edculo $i$  \n",
      "<li> $\\sigma \\in S_{12}$: codifica la permutaci\u00f3n de las aristas respecto a los centro inamovibles: $\\sigma (i) = j$, si el v\u00e9rtice $j$ est\u00e1 en el cub\u00edculo $i$\n",
      "<li>  $w \\in \\mathbb Z_{2}^{12}$: el n\u00famero $v_{j}$, corresponde a la orientacion de la arista $j$ en el cub\u00edculo $i$  "
     ]
    },
    {
     "cell_type": "markdown",
     "metadata": {},
     "source": [
      "**FALTA EJEMPLO DE MARIO, CON IMAGEN**"
     ]
    },
    {
     "cell_type": "markdown",
     "metadata": {},
     "source": [
      "Claramente nuestro modelo tiene una mayor cantidad de configuraciones posibles que la que tiene en realidad un cubo f\u00edsico.\n",
      "Estamos tomando en cuenta tambi\u00e9n las posiciones ilegales del cubo: aqu\u00e9llas que son imposibles de alcanzar con movimientos v\u00e1lidos (m\u00e1s adelante veremos un modelo para esto). Por ejemplo, es f\u00e1cil ver que el vector de estado $( \\epsilon_{8}, (0,. . .,0), \\epsilon_{12}, (1, 0, . . ., 0)\\ )$ ($\\epsilon_{i}$ es la funci\u00f3n identidad en $S_{i}$) es imposible de alcanzar, aunque s\u00ed cumple con la definici\u00f3n."
     ]
    },
    {
     "cell_type": "markdown",
     "metadata": {},
     "source": [
      "**Definici\u00f3n: Grupo del cubo v\u00e1lido e inv\u00e1lido**\n",
      "\n",
      "<div class=\"alert alert-info\">\n",
      "Al conjunto $RC_{3}^{*} = S_{8} \\times \\mathbb Z_{3}^{8} \\times S_{12} \\times \\mathbb Z_{2}^{12}$ se le llama grupo inv\u00e1lido del cubo.\n",
      "<br> Mientras que al conjunto $RC_{3} = \\{X \\in RC_{3}^{*}: X$ es una configuraci\u00f3n legal de cubo $ \\}$ se le llama grupo v\u00e1lido del cubo."
     ]
    },
    {
     "cell_type": "markdown",
     "metadata": {},
     "source": [
      "Es f\u00e1cil ver que $RC_{3} \\subset RC_{3}^{*}$, de hecho, \u00a1 $|RC_{3}| = 8! 12! 3^{8} 2^{12} \\approx 4.3 \\times 10^{19} < 5.1 \\times 10^{20} \\approx 2^{27} 3^{14} 5^{3} 7^{2} 11 = |RC_{3}^{*}|$ ! Por lo que es l\u00f3gico preguntarse \u00bfc\u00f3mo caracterizar las configuraciones legales del cubo para moderlarlo computacionalmente? El siguiente teorema nos da la soluci\u00f3n. "
     ]
    },
    {
     "cell_type": "markdown",
     "metadata": {},
     "source": [
      "**Proposici\u00f3n: Primer Teorema Fundamental del Cubo**\n",
      "\n",
      "<div class=\"alert alert-info\">\n",
      "Un vector de estado $(\\rho, v, \\sigma, w ) \\in S_{8} \\times \\mathbb Z_{3}^{8} \\times S_{12} \\times \\mathbb Z_{2}^{12} $ representa una configuraci\u00f3n legal del cubo si, y s\u00f3lo si, satisface las siguientes propiedades:\n",
      "<ul>\n",
      "<li> $sign(\\rho) = sign(\\sigma) $\n",
      "<li> $v_{1} + v_{2} + . . . + v_{8} \\equiv 0$ $(mod$ $8) $\n",
      "<li> $w_{1} + w_{2} + . . . + w_{12} \\equiv 0$ $(mod$ $2) $"
     ]
    },
    {
     "cell_type": "markdown",
     "metadata": {},
     "source": [
      "**Demostraci\u00f3n** Parece que falta cehcar varias cosas de \u00e9sta. PONER SECUENCIA=?\n",
      "\n",
      "$\\textbf{(i)}$ Primero tenemos que las tres condiciones son necesarias. Para esto vamos a probar que se satisfacen en el estado original (resuelto) del cubo, y que se mantienen bajo los $6$ movimientos b\u00e1sicos $R, L, U, D, F$ y $B$.\n",
      "Cuando el cubo est\u00e1 resuelto le corresponde el vector $(\\varepsilon,\\varepsilon,\\overrightarrow{0},\\overrightarrow{0})$ y las tres condiciones se satisface.\n",
      "Para cada uno de los 6 movimientos, sus vectores correspondientes son:\n",
      "\n",
      "$R \\rightarrow ((2,6,7,3),(2,6,10,7),(0,1,2,0,0,2,1,0),(0,1,0,0,0,1,1,0,0,1,0,0))$\n",
      "$L \\rightarrow ((1,4,8,5),(4,8,12,5),(2,0,0,1,1,0,0,2),(0,0,0,1,1,0,0,1,0,0,0,1))$\n",
      "$U \\rightarrow ((1,2,3,4),(1,2,3,4),(0,0,0,0,0,0,0,0),(0,0,0,0,0,0,0,0,0,0,0,0))$\n",
      "$D \\rightarrow ((5,8,7,6),(9,12,11,10),(0,0,0,0,0,0,0,0),(0,0,0,0,0,0,0,0,0,0,0,0))$\n",
      "$F \\rightarrow ((3,7,8,4),(3,7,11,8),(0,0,1,2,0,0,2,1),(0,0,0,0,0,0,0,0,0,0,0,0))$\n",
      "$B \\rightarrow ((1,5,6,2),(1,5,9,6),(1,2,0,0,2,1,0,0),(0,0,0,0,0,0,0,0,0,0,0,0))$\n",
      "\n",
      "Se satisfacen las tres condiciones. Cada permutacion es un ciclo de orden $4$ (par) y tiene signo $-1$. La suma de los componentes de cada vector de orientaci\u00f3n de las esquinas es $0$ o $6$, que son divisibles entre $3$. La suma de los componentes de cada vector de orientaci\u00f3n de aristas es $0$ o $4$, que es divisible entre $2$.\n",
      "\n",
      "Si $X$ es una configuraci\u00f3n legal con vector de posici\u00f3n $(\\rho, v, \\sigma, w )$ que satisface las tres condiciones, entonces despu\u00e9s de aplicarle uno de los seis movimientos b\u00e1sicos, estas condiciones todav\u00eda se cumplen:\n",
      "<li> La primera se cumple ya que cada movimiento causa al mismo tiempo ciclos de orden $4$ en los \"cubies\" de las esquinas y las aristas, por lo tanto de misma paridad.\n",
      "<li> La segunda se cumple porque $U$ y $D$ no cambian nada, mientras que $R,L,F$ y $B$ causan simultaneamente que dos componentes aumenten en $1(mod 3)$ y dos compenentes se reduzcan en $1(mod 3).$\n",
      "<li> La tercera se cumple por la misma l\u00f3gica. Los movimientos $U,D,F$ y $B$ no cambian nada, mientras que $R$ y $L$ incrementan y reducen dos componentes cada uno en $1(mod 2)$\n",
      "Ya que toda configuraci\u00f3n legal del cubo se obtiene aplicando estos movimientos al cubo resuelto, las tres propiedades se cumplen para cada configuraci\u00f3n legal.\n",
      "\n",
      "$\\textbf{(ii)}$ Para probar que las tres condiciones son suficientes, tenemos que probar que cualquier vector de estado $(\\rho, v, \\sigma, w )$ que las satisface puede resolverse usando los seis movimientos b\u00e1sicos.\n",
      "Vamos a usar el m\u00e9todo por capas para resolverlo y probar esta parte. PRESENTAMOS EL M\u00c9TODO\n",
      "\n",
      "Sea $X$ una configuraci\u00f3n correspondiente a $(\\rho, v, \\sigma, w )$.\n",
      "Primero, sin p\u00e9rdida de generalidad asumimos que $\\rho$ y $\\sigma$ tienen paridad igual a $1$ (en caso contrario solo aplicamos un movimiento de la cara y ya quedar\u00edan como queremos). Esto significa que la permutacion de esquinas es par, por lo que podr\u00edamos regresarlas a sus ubicaciones iniciales usando un ciclo de movimientos de orden 3. An\u00e1logamente para las aristas. Ya que podemos aplicar cualquier ciclo de orden 3 en esquinas o aristas, podemos regresar cualquier configuraci\u00f3n a su posici\u00f3n original. Llamemos esta nueva configuraci\u00f3n $X'$.\n",
      "Como los movimientos b\u00e1sicos conservan las condiciones del primer teorema fundamental, el vector de estado $(\\rho',v',\\sigma',w')$ de $X'$ tambi\u00e9n las satisface y en este caso tenemos que $\\rho'=\\varepsilon, \\sigma'=\\varepsilon$.\n",
      "Ahora falta mostrar que podemos voltear los \"cubies\" a sus orientaciones correctas.\n",
      "\n",
      "La tercera condici\u00f3n nos indica que tenemos que voltear un n\u00famero par de aristas. Como tenemos series de movimientos para voltear cualquier par de aristas, entonces esta parte la podemos resolver. PONER LA SECUENCIA\n",
      "Para las esquinas, la segunda condici\u00f3n nos dice que el n\u00famero de vueltas en el sentido de las manecillas que tenemos que darles es igual al n\u00famero de vueltas en sentido contrario m\u00f3dulo $3$. As\u00ed que primero volteamos cualquier par en los dos sentidos a sus orientaciones originales. El resultado va a ser que todas las vueltas que nos faltan van a ocurrir en tripletes del mismo sentido. Estos se pueden resolver usando una secuencia de movimientos de esquinas que ya conocemos. PONER LA SECUENCIA\n",
      "\n",
      "Podemos concluir que $X$ es una configuraci\u00f3n que podemos resolver. \n"
     ]
    },
    {
     "cell_type": "markdown",
     "metadata": {},
     "source": [
      "**El tama\u00f1o del groupo del cubo**\n",
      "\n",
      "<div class=\"alert alert-info\">\n",
      "El n\u00famero de posiciones legales e ilegales es:\n",
      "<ul>\n",
      "<li> $|RC_{3}|=\\frac{|R{C^*}_{3}|}{12}=2^{27}\\cdot 3^{14}\\cdot 5^{3}\\cdot 7^{2}\\cdot 11\\simeq4.3\\cdot10^{19}$\n",
      "<li>$|RC^{*}_{3}|=8!\\cdot 12!\\cdot 3^{8}\\cdot 2^{12}$\n"
     ]
    },
    {
     "cell_type": "markdown",
     "metadata": {},
     "source": [
      "**Demostraci\u00f3n**\n",
      "\n",
      "Ya que $R{C^*}_{3}=S_{8}\\times S_{12}\\times \\mathbb Z_{3}^{8}\\times \\mathbb Z_{2}^{12} $ se sigue $\\Rightarrow$ $|R{C^*}_{3}|=|S_{8}|\\times |S_{12}|\\times |\\mathbb Z_{3}^{8}|\\times |\\mathbb Z_{2}^{12}|=8!\\cdot12!\\cdot3^8\\cdot2^{12} $\n",
      "Para las posiciones legales, este n\u00famero se reduce en:\n",
      "<li> La mitad por la primera condici\u00f3n del primer teorema fundamental, ya que habr\u00e1 el mismo n\u00famero de permutaciones pares que impares. \n",
      "<li> Un tercio por la segunda condici\u00f3n, ya que la orientaci\u00f3n de 7 esquinas se puede escoger arbitrariamente, pero esto determina la orientaci\u00f3n de la esquina restante.\n",
      "<li> La mitad por la tercera condici\u00f3n con el mismo razonamiento aplicado a las 12 aristas.\n",
      "\n",
      "Concluimos que $|RC_3|=\\frac{|R{C^*}_3|}{12}$\n",
      "\n",
      "\n"
     ]
    },
    {
     "cell_type": "markdown",
     "metadata": {},
     "source": [
      "**Ser\u00eda bueno incluir aqu\u00ed m\u00e1s ejemplos, para entrada v\u00e1lida vs. inv\u00e1lida (gui\u00f1o gui\u00f1o Mario)**"
     ]
    },
    {
     "cell_type": "markdown",
     "metadata": {},
     "source": [
      "**Proposici\u00f3n: Segundo Teorema Fundamental del Cubo**\n",
      "\n",
      "<div class=\"alert alert-info\">\n",
      "Una secuencia de movimientos es posible si y solo si se satisfacen las siguientes tres proposiciones:\n",
      "<ul>\n",
      "<li> La permutaci\u00f3n de las esquinas y las aristas (como producto) es par.\n",
      "<li> El n\u00famero de esquinas que giramos en el sentido de las manecillas es el mismo que el n\u00famero de esquinas que giramos en sentido contrario $mod 3$\n",
      "<li> El n\u00famero de aristas invertidas es par. "
     ]
    },
    {
     "cell_type": "markdown",
     "metadata": {},
     "source": [
      "**Corolario**\n",
      "\n",
      "<div class=\"alert alert-info\">\n",
      "Cada una de las siguientes configuraciones son imposibles de obtener a partir del estado resuelto del cubo mediante movimientos legales.\n",
      "<ul>\n",
      "<li> Exactamente dos esquinas intercambian lugares.\n",
      "<li> Exactamente dos aristas intercambian lugares.\n",
      "<li> Exactamente una arista se invierte.\n",
      "<li> Exactamente una esquina se voltea.\n",
      "<li> Exactamente dos esquinas se voltean en la misma direcci\u00f3n."
     ]
    },
    {
     "cell_type": "heading",
     "level": 2,
     "metadata": {},
     "source": [
      "El Algoritmo de Thistlethwaite"
     ]
    },
    {
     "cell_type": "markdown",
     "metadata": {},
     "source": [
      "**Esbozo general**\n",
      "<br>\n",
      "El siguiente m\u00e9todo ha tenido muchas repercusiones importantes para la investigaci\u00f3n y dise\u00f1o de algoritmos de soluci\u00f3n del cubo Rubik. Cabe destacar su importancia y belleza te\u00f3rica que, por su propia naturaleza, lo invalidan para el uso humano, no as\u00ed para las computadoras. Cuando el algoritmo ha sido mejorado e implementado con herramientas m\u00e1s sofisticadas de programaci\u00f3n se puede lograr una soluci\u00f3n en un promedio de $20$ movimientos.\n",
      "<br> <p> Otra forma de representar al cubo es a trav\u00e9s de las rotaciones. Es decir, todo estado del cubo se puede alcanzar a trav\u00e9s de una serie--no necesariamente \u00fanica--v\u00e1lida de movimientos del tipo $L, R, F, B, U, D$ (v\u00e9ase m\u00e1s arriba el apartado dedicado a la explicaci\u00f3n de la notaci\u00f3n de Singmaster). La idea detr\u00e1s del algoritmo es dividir el problema de resoluci\u00f3n del cubo en problemas mucho m\u00e1s sencillos de completar (de nuevo, por una m\u00e1quina). Para esto se va haciendo un \"escalamiento\" entre cada subgrupo, restringiendo cada vez m\u00e1s el n\u00famero de movimientos permitidos. Los subgrupos son:\n",
      "<div class=\"alert alert-info\">\n",
      "$G_{0} = RC_3 = <L, R, F, B, U, D>$, todo el grupo del cubo est\u00e1 aqu\u00ed.\n",
      "<br> $G_{1} = <L, R, F^2, B^2, U, D>$, subgrupo de $G_{0}$,\n",
      "<br> $G_{2} = <L^2, R^2, F^2, B^2, U, D> $, subgrupo de $ G_{1}$,\n",
      "<br> $G_{3} = <L^2, R^2, F^2, B^2, U, D> $, subgrupo de $ G_{2}$,\n",
      "<br> $G_{4} = \\{e\\}$, el cubo resuelto <br> <br> $G_{i}, 1 \\leq i \\leq 4$ corresponde a todos los estados del cubo que pueden ser alcanzados usando los movimientos en su conjunto generador. "
     ]
    },
    {
     "cell_type": "markdown",
     "metadata": {},
     "source": [
      "Intuitivamente lo que queremos hacer es ir maniobrando a lo largo de la cadena de subgrupos $G_{0} > G_{1} > G_{2} > G_{3} > G_{4}$. Supongamos un caso ideal en el que el rompecabezas fue bien encriptado (revuelto), y que solo podemos llegar a este estado usando todos los seis movimientos que generan a $G_{0}$. Para pasar a $G_{1}$, usamos los movimientos en el conjunto generador de $G_{0}$, a saber, $L, R, F, B, U, D$. Una vez que llegamos a $G_{1}$, usando \u00fanicamente movimientos en el conjunto generador de $G_{1}$ $(L, R, F^2, B^2, U, D)$, pasamos a $G_{2}$; y as\u00ed, sucesivamente hasta llegar a $G_{4}$: el cubo resuelto.\n",
      "<br> Ahora bien, para realizar la transici\u00f3n entre cada subgrupo, nos fijamos en las clases laterales. Thistlethwaite primeramente dise\u00f1\u00f3 unas tablas representando los grupos cocientes $G_{i+1}/G_{i}$ para $1 \\leq i \\leq 4$; y para cada elemento (cada clase lateral) en cada grupo cociente (o en cada tabla) hall\u00f3 la serie de movimientos que te llevar\u00edan dicho elemento al subgrupo m\u00e1s peque\u00f1o. <br> Lo anterior lo podr\u00edamos formalizar de la siguiente manera: \n",
      "<div class=\"alert alert-info\">\n",
      "Se generan las tablas de cada grupo cociente:\n",
      "<br> $G_{1}/G_{0} = \\mathop{\\bigcup}_{i = 1}^{r_{0}} g_{1,i} G_{0} $, con $g_{1,i} \\in G$, para cada $i$........................tabla 1 <br>\n",
      "<br> $G_{2}/G_{1} = \\mathop{\\bigcup}_{i = 1}^{r_{1}} g_{2,i} G_{1} $, con $g_{2,i} \\in G$, para cada $i$........................tabla 2 <br>\n",
      "<br> $G_{3}/G_{2} = \\mathop{\\bigcup}_{i = 1}^{r_{2}} g_{3,i} G_{2} $, con $g_{3,i} \\in G$, para cada $i$........................tabla 3  <br>\n",
      "<br> $G_{4}/G_{3} = G_{3}$ ........................................................................................tabla 4\n",
      "<br> donde $r_{i} = |G_{i}/G_{i-1}|, 1 \\leq i \\leq 3 $, y\n",
      "<br> $g_{j,i} \\in G$"
     ]
    },
    {
     "cell_type": "markdown",
     "metadata": {},
     "source": [
      "Y la transici\u00f3n entre cada clase lateral, quedar\u00eda como sigue:\n",
      "\n",
      "**Algoritmo de Thistlethwaite**\n",
      "<div class=\"alert alert-warning\">\n",
      "Sea $g_{0} \\in G_{0}$, un estado bien encriptado del rompecabezas. \n",
      "<ul>\n",
      "**Transici\u00f3n de $G_0$ a $G_1$**\n",
      "<li> Ya que $G_1 < G_0$, podemos formar una partici\u00f3n de $G_0$, a partir de la uni\u00f3n de las clases laterales, es decir, $G_0 = \\mathop{\\bigcup}_{i = 1}^{r_{0}} g_{i,0} G_1$, con $g_{i,0} \\in G_0$, para toda $1 \\leq i \\leq r_0$, para alguna $r_0 > 1$. \n",
      "<li> Luego, existe $x_{1} \\in G_{0}$, tal que $g_0 \\in x_1 G_1$, o bien, $g_0 = x_1 g_1$, para alguna $g_1 \\in G_1$\n",
      "<br> Se sigue que $g_1 = x_1^{-1} g_0 \\in G_1$.\n",
      "<br> N\u00f3tese que para llegar a $G_1$, solo se usan movimientos en $G_0$, pues $x_1^{-1} \\in G_0$\n",
      "<br> <br> **Transici\u00f3n de $G_1$ a $G_2$**\n",
      "<li> Ya que $G_2 < G_1$, podemos formar una partici\u00f3n de $G_1$, a partir de la uni\u00f3n de las clases laterales, es decir, $G_1 = \\mathop{\\bigcup}_{i = 1}^{r_{1}} g_{i,1} G_2$, con $g_{i,1} \\in G_1$, para toda $1 \\leq i \\leq r_1$, para alguna $r_1 > 1$. \n",
      "<li> Luego, existe $x_{2} \\in G_{1}$, tal que $g_1 \\in x_2 G_2$, o bien, $g_1 = x_2 g_2$, para alguna $g_2 \\in G_2$\n",
      "<br> Se sigue que $g_2 = x_2^{-1} g_1 = x_2^{-1} x_1^{-1} g_0 \\in G_2$.\n",
      "<br> De nueva cuenta, solo usamos movimientos en $G_1$, para llegar a $G_2$, puesto que $x_2^{-1} x_1^{-1} \\in G_1$\n",
      "<br> <br> **Transici\u00f3n de $G_2$ a $G_3$**\n",
      "<li> Ya que $G_3 < G_2$, podemos formar una partici\u00f3n de $G_2$, a partir de la uni\u00f3n de las clases laterales, es decir, $G_2 = \\mathop{\\bigcup}_{i = 1}^{r_{2}} g_{i,2} G_3$, con $g_{i,2} \\in G_2$, para toda $1 \\leq i \\leq r_2$, para alguna $r_2 > 1$. \n",
      "<li> Luego, existe $x_{3} \\in G_{2}$, tal que $g_2 \\in x_3 G_3$, o bien, $g_2 = x_3 g_3$, para alguna $g_3 \\in G_3$\n",
      "<br> Se sigue que $g_3 = x_3^{-1} g_2 = x_3^{-1} x_2^{-1} x_1^{-1} g_0 \\in G_3$.\n",
      "<br> <br> **Transici\u00f3n de $G_3$ a $G_4 = \\{e\\}$**\n",
      "<li> Consideremos a $g_3^{-1}$, inverso de $g_3$. Simplemente, $e = g_3^{-1} g_3 \\in G_4$. Por \u00faltimo, redefinimos: $x_4 = g_{3}$,\n",
      "<br> y se sigue que $e = x_4^{-1} x_3^{-1} x_2^{-1} x_1^{-1} g_0$\n",
      "<br>\n",
      "<br> Tomando $g_0 = x_1 x_2 x_3 x_4$, se tiene la soluci\u00f3n"
     ]
    },
    {
     "cell_type": "code",
     "collapsed": false,
     "input": [],
     "language": "python",
     "metadata": {},
     "outputs": []
    }
   ],
   "metadata": {}
  }
 ]
}