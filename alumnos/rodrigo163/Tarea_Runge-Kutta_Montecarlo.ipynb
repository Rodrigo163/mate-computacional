{
 "metadata": {
  "name": "",
  "signature": "sha256:9609375f23ee8bbd2084cd52bb089135c7cac8e26b2109368853aaf4aef3eb17"
 },
 "nbformat": 3,
 "nbformat_minor": 0,
 "worksheets": [
  {
   "cells": [
    {
     "cell_type": "heading",
     "level": 1,
     "metadata": {},
     "source": [
      "Primer Problema"
     ]
    },
    {
     "cell_type": "markdown",
     "metadata": {},
     "source": [
      "Implementar runge-kutta de orden cuatro"
     ]
    },
    {
     "cell_type": "code",
     "collapsed": false,
     "input": [
      "%pylab inline\n",
      "import numpy as np\n",
      "import matplotlib.pyplot as plt"
     ],
     "language": "python",
     "metadata": {},
     "outputs": [
      {
       "output_type": "stream",
       "stream": "stdout",
       "text": [
        "Populating the interactive namespace from numpy and matplotlib\n"
       ]
      }
     ],
     "prompt_number": 1
    },
    {
     "cell_type": "code",
     "collapsed": false,
     "input": [
      "#El que hicimos en clase\n",
      "def rk2(y,t,dt,deriv):\n",
      "    k0=dt*deriv(y,t)\n",
      "    ki=dt*deriv(y+ko,t+dt)\n",
      "    y_next=y+0.5*(k1+k0)\n",
      "    return y_next"
     ],
     "language": "python",
     "metadata": {},
     "outputs": [],
     "prompt_number": 2
    },
    {
     "cell_type": "code",
     "collapsed": false,
     "input": [
      "def rk4(y, t, dt, derivadas):\n",
      "    k0 = dt*derivadas(y, t)\n",
      "    k1 = dt*derivadas(y + 0.5*k0, t + 0.5*dt)\n",
      "    k2 = dt*derivadas(y + 0.5*k1, t + 0.5*dt)\n",
      "    k3 = dt*derivadas(y + k3, t + dt)\n",
      "    y_next = y + (1/6)*(k0 + 2*k1 + 2*k2 + k3)\n",
      "    \n",
      "    return y_next"
     ],
     "language": "python",
     "metadata": {},
     "outputs": [],
     "prompt_number": 3
    },
    {
     "cell_type": "heading",
     "level": 1,
     "metadata": {},
     "source": [
      "Problema 2\n"
     ]
    },
    {
     "cell_type": "markdown",
     "metadata": {},
     "source": [
      "Calcular pi usando m\u00e9todos de montecarlo"
     ]
    },
    {
     "cell_type": "code",
     "collapsed": false,
     "input": [
      "import random\n",
      "\n",
      "from __future__ import division\n",
      "def Circulo(N):\n",
      "    count = 0\n",
      "    for j in range(N):\n",
      "        point = np.array([random.random(), random.random()])  # Un punto al azar, random() genera valores entre 0-1\n",
      "        if sum(point**2) < 1:  # x^2 + y^2 < 1 \n",
      "            count = count + 1\n",
      "    return count/N\n",
      "\n",
      "def MasMenosPi(N):\n",
      "    MasMenosPi = 4*Circulo(N)\n",
      "    return MasMenosPi\n",
      "MasMenosPi(100000)\n"
     ],
     "language": "python",
     "metadata": {},
     "outputs": [
      {
       "metadata": {},
       "output_type": "pyout",
       "prompt_number": 7,
       "text": [
        "3.14128"
       ]
      }
     ],
     "prompt_number": 7
    },
    {
     "cell_type": "markdown",
     "metadata": {},
     "source": [
      "Con la misma idea falta hacer vol\u00famenes, solo es lanzar puntos aleatorios en tres dimesiones."
     ]
    },
    {
     "cell_type": "code",
     "collapsed": false,
     "input": [],
     "language": "python",
     "metadata": {},
     "outputs": []
    }
   ],
   "metadata": {}
  }
 ]
}